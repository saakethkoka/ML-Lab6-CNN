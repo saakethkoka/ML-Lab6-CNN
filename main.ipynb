{
 "cells": [
  {
   "cell_type": "code",
   "execution_count": null,
   "metadata": {
    "pycharm": {
     "is_executing": true
    }
   },
   "outputs": [],
   "source": [
    "import pickle\n",
    "import numpy as np\n",
    "import tensorflow as tf\n",
    "from sklearn.model_selection import train_test_split\n",
    "import tensorflow as tf\n",
    "import matplotlib.pyplot as plt\n",
    "from tensorflow.keras.preprocessing.image import ImageDataGenerator\n",
    "import scipy"
   ]
  },
  {
   "cell_type": "code",
   "execution_count": 2,
   "metadata": {},
   "outputs": [
    {
     "name": "stdout",
     "output_type": "stream",
     "text": [
      "WARNING:tensorflow:From /tmp/ipykernel_17892/501681495.py:1: is_gpu_available (from tensorflow.python.framework.test_util) is deprecated and will be removed in a future version.\n",
      "Instructions for updating:\n",
      "Use `tf.config.list_physical_devices('GPU')` instead.\n"
     ]
    },
    {
     "name": "stderr",
     "output_type": "stream",
     "text": [
      "2022-12-02 22:07:07.649912: I tensorflow/core/platform/cpu_feature_guard.cc:193] This TensorFlow binary is optimized with oneAPI Deep Neural Network Library (oneDNN) to use the following CPU instructions in performance-critical operations:  AVX2 AVX512F FMA\n",
      "To enable them in other operations, rebuild TensorFlow with the appropriate compiler flags.\n",
      "2022-12-02 22:07:08.393233: I tensorflow/core/common_runtime/gpu/gpu_device.cc:1613] Created device /device:GPU:0 with 30971 MB memory:  -> device: 0, name: Tesla V100-SXM2-32GB, pci bus id: 0000:15:00.0, compute capability: 7.0\n"
     ]
    },
    {
     "data": {
      "text/plain": [
       "True"
      ]
     },
     "execution_count": 2,
     "metadata": {},
     "output_type": "execute_result"
    }
   ],
   "source": [
    "tf.test.is_gpu_available(\n",
    "    cuda_only=False, min_cuda_compute_capability=None\n",
    ")"
   ]
  },
  {
   "cell_type": "code",
   "execution_count": 3,
   "metadata": {},
   "outputs": [
    {
     "name": "stderr",
     "output_type": "stream",
     "text": [
      "2022-12-02 22:07:08.413097: I tensorflow/core/common_runtime/gpu/gpu_device.cc:1613] Created device /job:localhost/replica:0/task:0/device:GPU:0 with 30971 MB memory:  -> device: 0, name: Tesla V100-SXM2-32GB, pci bus id: 0000:15:00.0, compute capability: 7.0\n"
     ]
    },
    {
     "name": "stdout",
     "output_type": "stream",
     "text": [
      "INFO:tensorflow:Using MirroredStrategy with devices ('/job:localhost/replica:0/task:0/device:GPU:0',)\n",
      "Number of devices: 1\n"
     ]
    }
   ],
   "source": [
    "strategy = tf.distribute.MirroredStrategy()\n",
    "\n",
    "# Print the number of devices in the strategy's MirroredStrategy object\n",
    "print('Number of devices: {}'.format(strategy.num_replicas_in_sync))"
   ]
  },
  {
   "cell_type": "markdown",
   "metadata": {},
   "source": [
    "# Evaluation Metric:\n",
    "\n",
    "Accuracy:\n",
    "Because the classes in our dataset are balanced, and there is no added benefit (from a buisness perspective) for our model to better predict one of the classes than the others, Accuracy is a good metric to use to judge our models. Additionally, if you look at other similar image classification problems such as imagenet, accuracy or some variation of it is consistently the most used and widely accepted as an appropriate metric. "
   ]
  },
  {
   "cell_type": "markdown",
   "metadata": {},
   "source": [
    "## Loading in the Data:"
   ]
  },
  {
   "cell_type": "code",
   "execution_count": 4,
   "metadata": {},
   "outputs": [],
   "source": [
    "files = [\"data_batch_1\", \"data_batch_2\", \"data_batch_3\", \"data_batch_4\", \"data_batch_5\", \"test_batch\"]\n",
    "dir = \"cifar-10-batches-py/\"\n",
    "\n",
    "# Loading the data into a single numpy array:\n",
    "for file in files:\n",
    "    with open(dir + file, 'rb') as fo:\n",
    "        dict = pickle.load(fo, encoding='bytes')\n",
    "        if file == \"data_batch_1\":\n",
    "            data = dict[b'data']\n",
    "            labels = dict[b'labels']\n",
    "        else:\n",
    "            data = np.vstack((data, dict[b'data']))\n",
    "            labels = np.hstack((labels, dict[b'labels']))\n",
    "\n",
    "\n",
    "\n",
    "data = data.reshape((data.shape[0], 3, 32, 32)).transpose(0, 2, 3, 1).astype(\"int\")"
   ]
  },
  {
   "cell_type": "code",
   "execution_count": 5,
   "metadata": {},
   "outputs": [
    {
     "data": {
      "text/plain": [
       "<matplotlib.image.AxesImage at 0x2aab5f8621d0>"
      ]
     },
     "execution_count": 5,
     "metadata": {},
     "output_type": "execute_result"
    },
    {
     "data": {
      "image/png": "[encoded data removed]",
      "text/plain": [
       "<Figure size 640x480 with 1 Axes>"
      ]
     },
     "metadata": {},
     "output_type": "display_data"
    }
   ],
   "source": [
    "# plot the first image of cifar 10 dataset:\n",
    "plt.imshow(data[0], interpolation='nearest')"
   ]
  },
  {
   "cell_type": "markdown",
   "metadata": {},
   "source": [
    "# Splitting the Data:\n",
    "\n",
    "We will use a stratified train test split. We have enough data, 60,000 images equally split amoungst 10 classes. Therefore, we do not need to use K-fold cross validation or shuffle split in order to properly train and evaluate our models.\n"
   ]
  },
  {
   "cell_type": "code",
   "execution_count": 6,
   "metadata": {},
   "outputs": [],
   "source": [
    "X_train, X_val, y_train, y_val = train_test_split(data, labels, test_size=0.2, random_state=69, stratify=labels)"
   ]
  },
  {
   "cell_type": "markdown",
   "metadata": {},
   "source": [
    "# Modeling"
   ]
  },
  {
   "cell_type": "code",
   "execution_count": 20,
   "metadata": {},
   "outputs": [],
   "source": [
    "def plot_history(history):\n",
    "    # plot history of the model:\n",
    "    fig = plt.figure(figsize=(10, 8))\n",
    "    plt.plot(history.history['loss'], label='train')\n",
    "    plt.plot(history.history['val_loss'], label='validate')\n",
    "    plt.legend()\n",
    "    plt.xlabel('Epochs')\n",
    "    plt.ylabel('Loss')\n",
    "    plt.title('Loss over epochs')"
   ]
  },
  {
   "cell_type": "markdown",
   "metadata": {},
   "source": [
    "## Data Augmentation:\n",
    "\n",
    "Because the classes consist of regular every day objecst that we would not expect to see upside down in a real world setting we do not belive that vertical flip necessary. On the other hand we would see these in different horizontal orientations, it makes sense to include it in the augmentation. We also will not see the object in the exact same location as in the training pictures we need to adjust for slight variations in the angle and position of the object in the frame."
   ]
  },
  {
   "cell_type": "code",
   "execution_count": null,
   "metadata": {},
   "outputs": [],
   "source": [
    "datagen = ImageDataGenerator(\n",
    "    rotation_range=15,\n",
    "    width_shift_range=0.1,\n",
    "    height_shift_range=0.1,\n",
    "    horizontal_flip=True,\n",
    "    vertical_flip=False,\n",
    ")\n",
    "\n",
    "datagen.fit(X_train)"
   ]
  },
  {
   "cell_type": "markdown",
   "metadata": {},
   "source": [
    "## Model 1:"
   ]
  },
  {
   "cell_type": "code",
   "execution_count": 44,
   "metadata": {},
   "outputs": [
    {
     "name": "stdout",
     "output_type": "stream",
     "text": [
      "Epoch 1/20\n"
     ]
    },
    {
     "name": "stderr",
     "output_type": "stream",
     "text": [
      "2022-12-04 13:18:59.243778: W tensorflow/compiler/xla/stream_executor/gpu/asm_compiler.cc:115] *** WARNING *** You are using ptxas 11.0.221, which is older than 11.1. ptxas before 11.1 is known to miscompile XLA code, leading to incorrect results or invalid-address errors.\n",
      "\n",
      "You may not need to update to CUDA 11.1; cherry-picking the ptxas binary is often sufficient.\n",
      "2022-12-04 13:18:59.468033: W tensorflow/compiler/xla/stream_executor/gpu/asm_compiler.cc:115] *** WARNING *** You are using ptxas 11.0.221, which is older than 11.1. ptxas before 11.1 is known to miscompile XLA code, leading to incorrect results or invalid-address errors.\n",
      "\n",
      "You may not need to update to CUDA 11.1; cherry-picking the ptxas binary is often sufficient.\n",
      "2022-12-04 13:18:59.622564: W tensorflow/compiler/xla/stream_executor/gpu/asm_compiler.cc:115] *** WARNING *** You are using ptxas 11.0.221, which is older than 11.1. ptxas before 11.1 is known to miscompile XLA code, leading to incorrect results or invalid-address errors.\n",
      "\n",
      "You may not need to update to CUDA 11.1; cherry-picking the ptxas binary is often sufficient.\n"
     ]
    },
    {
     "name": "stdout",
     "output_type": "stream",
     "text": [
      "188/188 [==============================] - 3s 12ms/step - loss: 1.8989 - accuracy: 0.3067 - val_loss: 1.6021 - val_accuracy: 0.4121\n",
      "Epoch 2/20\n",
      "188/188 [==============================] - 2s 10ms/step - loss: 1.4994 - accuracy: 0.4519 - val_loss: 1.4303 - val_accuracy: 0.4857\n",
      "Epoch 3/20\n",
      "188/188 [==============================] - 2s 10ms/step - loss: 1.3496 - accuracy: 0.5155 - val_loss: 1.3224 - val_accuracy: 0.5236\n",
      "Epoch 4/20\n",
      "188/188 [==============================] - 2s 10ms/step - loss: 1.2476 - accuracy: 0.5556 - val_loss: 1.2495 - val_accuracy: 0.5515\n",
      "Epoch 5/20\n",
      "188/188 [==============================] - 2s 10ms/step - loss: 1.1813 - accuracy: 0.5820 - val_loss: 1.2046 - val_accuracy: 0.5726\n",
      "Epoch 6/20\n",
      "188/188 [==============================] - 2s 10ms/step - loss: 1.1278 - accuracy: 0.6017 - val_loss: 1.2405 - val_accuracy: 0.5637\n",
      "Epoch 7/20\n",
      "188/188 [==============================] - 2s 10ms/step - loss: 1.0897 - accuracy: 0.6157 - val_loss: 1.1318 - val_accuracy: 0.6012\n",
      "Epoch 8/20\n",
      "188/188 [==============================] - 2s 10ms/step - loss: 1.0526 - accuracy: 0.6282 - val_loss: 1.1379 - val_accuracy: 0.5982\n",
      "Epoch 9/20\n",
      "188/188 [==============================] - 2s 10ms/step - loss: 1.0132 - accuracy: 0.6431 - val_loss: 1.0975 - val_accuracy: 0.6128\n",
      "Epoch 10/20\n",
      "188/188 [==============================] - 2s 10ms/step - loss: 0.9855 - accuracy: 0.6515 - val_loss: 1.0778 - val_accuracy: 0.6193\n",
      "Epoch 11/20\n",
      "188/188 [==============================] - 2s 10ms/step - loss: 0.9585 - accuracy: 0.6645 - val_loss: 1.1331 - val_accuracy: 0.6008\n",
      "Epoch 12/20\n",
      "188/188 [==============================] - 2s 10ms/step - loss: 0.9329 - accuracy: 0.6733 - val_loss: 1.0997 - val_accuracy: 0.6173\n",
      "Epoch 13/20\n",
      "188/188 [==============================] - 2s 10ms/step - loss: 0.9114 - accuracy: 0.6806 - val_loss: 1.0696 - val_accuracy: 0.6221\n",
      "Epoch 14/20\n",
      "188/188 [==============================] - 2s 10ms/step - loss: 0.8880 - accuracy: 0.6867 - val_loss: 1.0685 - val_accuracy: 0.6242\n",
      "Epoch 15/20\n",
      "188/188 [==============================] - 2s 10ms/step - loss: 0.8685 - accuracy: 0.6955 - val_loss: 1.0423 - val_accuracy: 0.6338\n",
      "Epoch 16/20\n",
      "188/188 [==============================] - 2s 10ms/step - loss: 0.8539 - accuracy: 0.7003 - val_loss: 1.0425 - val_accuracy: 0.6373\n",
      "Epoch 17/20\n",
      "188/188 [==============================] - 2s 10ms/step - loss: 0.8403 - accuracy: 0.7063 - val_loss: 1.0300 - val_accuracy: 0.6409\n",
      "Epoch 18/20\n",
      "188/188 [==============================] - 2s 10ms/step - loss: 0.8166 - accuracy: 0.7132 - val_loss: 1.0352 - val_accuracy: 0.6466\n",
      "Epoch 19/20\n",
      "188/188 [==============================] - 2s 10ms/step - loss: 0.7988 - accuracy: 0.7195 - val_loss: 1.0262 - val_accuracy: 0.6448\n",
      "Epoch 20/20\n",
      "188/188 [==============================] - 2s 9ms/step - loss: 0.7801 - accuracy: 0.7280 - val_loss: 1.0314 - val_accuracy: 0.6475\n"
     ]
    }
   ],
   "source": [
    "input = tf.keras.Input(shape=(32, 32, 3))\n",
    "normalized_input = tf.keras.layers.experimental.preprocessing.Rescaling(1./255)(input)\n",
    "x = tf.keras.layers.Conv2D(64, (3, 3), activation='relu')(normalized_input)\n",
    "x = tf.keras.layers.MaxPooling2D((2, 2))(x)\n",
    "dense = tf.keras.layers.Flatten()(x)\n",
    "dense = tf.keras.layers.Dense(64, activation='relu')(dense)\n",
    "dense = tf.keras.layers.Dense(16, activation='relu')(dense)\n",
    "output = tf.keras.layers.Dense(10, activation='softmax')(dense)\n",
    "model1 = tf.keras.Model(inputs=input, outputs=output)\n",
    "\n",
    "model1.compile(optimizer='adam', loss='sparse_categorical_crossentropy', metrics=['accuracy'])\n",
    "\n",
    "history1 = model1.fit(datagen.flow(X_train, y_train, batch_size=256), epochs=20, validation_data=(X_val, y_val))"
   ]
  },
  {
   "cell_type": "code",
   "execution_count": 48,
   "metadata": {},
   "outputs": [
    {
     "data": {
      "image/png": "[encoded data removed]",
      "text/plain": [
       "<Figure size 720x576 with 1 Axes>"
      ]
     },
     "metadata": {
      "needs_background": "light"
     },
     "output_type": "display_data"
    }
   ],
   "source": [
    "# plot the accuracy and loss of the model:\n",
    "plot_history(history1)"
   ]
  },
  {
   "cell_type": "markdown",
   "metadata": {},
   "source": [
    "As seen by the diverging train and validation loss graphs, the model is overfitting and validation accuracy is maxing out at around 62% while the training accuracy peaks at around 74%. In order to combat this we will add dropout in the next model to prevent overfitting."
   ]
  },
  {
   "cell_type": "markdown",
   "metadata": {},
   "source": [
    "## Model 1.5"
   ]
  },
  {
   "cell_type": "code",
   "execution_count": 45,
   "metadata": {},
   "outputs": [
    {
     "name": "stdout",
     "output_type": "stream",
     "text": [
      "Epoch 1/30\n"
     ]
    },
    {
     "name": "stderr",
     "output_type": "stream",
     "text": [
      "2022-12-04 13:19:37.908220: E tensorflow/core/grappler/optimizers/meta_optimizer.cc:954] layout failed: INVALID_ARGUMENT: Size of values 0 does not match size of permutation 4 @ fanin shape inmodel_9/dropout_7/dropout/SelectV2-2-TransposeNHWCToNCHW-LayoutOptimizer\n"
     ]
    },
    {
     "name": "stdout",
     "output_type": "stream",
     "text": [
      "188/188 [==============================] - 11s 50ms/step - loss: 1.9908 - accuracy: 0.2606 - val_loss: 1.6934 - val_accuracy: 0.4055\n",
      "Epoch 2/30\n",
      "188/188 [==============================] - 9s 49ms/step - loss: 1.6163 - accuracy: 0.4013 - val_loss: 1.4919 - val_accuracy: 0.4807\n",
      "Epoch 3/30\n",
      "188/188 [==============================] - 9s 50ms/step - loss: 1.4918 - accuracy: 0.4520 - val_loss: 1.3718 - val_accuracy: 0.5177\n",
      "Epoch 4/30\n",
      "188/188 [==============================] - 10s 51ms/step - loss: 1.4083 - accuracy: 0.4831 - val_loss: 1.3264 - val_accuracy: 0.5357\n",
      "Epoch 5/30\n",
      "188/188 [==============================] - 9s 49ms/step - loss: 1.3477 - accuracy: 0.5084 - val_loss: 1.2809 - val_accuracy: 0.5475\n",
      "Epoch 6/30\n",
      "188/188 [==============================] - 9s 48ms/step - loss: 1.3062 - accuracy: 0.5224 - val_loss: 1.2829 - val_accuracy: 0.5577\n",
      "Epoch 7/30\n",
      "188/188 [==============================] - 9s 49ms/step - loss: 1.2760 - accuracy: 0.5352 - val_loss: 1.1982 - val_accuracy: 0.5811\n",
      "Epoch 8/30\n",
      "188/188 [==============================] - 9s 48ms/step - loss: 1.2492 - accuracy: 0.5445 - val_loss: 1.1917 - val_accuracy: 0.5859\n",
      "Epoch 9/30\n",
      "188/188 [==============================] - 9s 48ms/step - loss: 1.2249 - accuracy: 0.5537 - val_loss: 1.1551 - val_accuracy: 0.5958\n",
      "Epoch 10/30\n",
      "188/188 [==============================] - 9s 49ms/step - loss: 1.2026 - accuracy: 0.5614 - val_loss: 1.1705 - val_accuracy: 0.5956\n",
      "Epoch 11/30\n",
      "188/188 [==============================] - 9s 49ms/step - loss: 1.1779 - accuracy: 0.5704 - val_loss: 1.1378 - val_accuracy: 0.5998\n",
      "Epoch 12/30\n",
      "188/188 [==============================] - 9s 49ms/step - loss: 1.1574 - accuracy: 0.5767 - val_loss: 1.1285 - val_accuracy: 0.6037\n",
      "Epoch 13/30\n",
      "188/188 [==============================] - 9s 50ms/step - loss: 1.1414 - accuracy: 0.5859 - val_loss: 1.1385 - val_accuracy: 0.6029\n",
      "Epoch 14/30\n",
      "188/188 [==============================] - 9s 49ms/step - loss: 1.1316 - accuracy: 0.5910 - val_loss: 1.1271 - val_accuracy: 0.6017\n",
      "Epoch 15/30\n",
      "188/188 [==============================] - 9s 49ms/step - loss: 1.1220 - accuracy: 0.5890 - val_loss: 1.1149 - val_accuracy: 0.6036\n",
      "Epoch 16/30\n",
      "188/188 [==============================] - 9s 49ms/step - loss: 1.0974 - accuracy: 0.5997 - val_loss: 1.0886 - val_accuracy: 0.6244\n",
      "Epoch 17/30\n",
      "188/188 [==============================] - 9s 49ms/step - loss: 1.0860 - accuracy: 0.6040 - val_loss: 1.0948 - val_accuracy: 0.6188\n",
      "Epoch 18/30\n",
      "188/188 [==============================] - 9s 49ms/step - loss: 1.0760 - accuracy: 0.6094 - val_loss: 1.0807 - val_accuracy: 0.6227\n",
      "Epoch 19/30\n",
      "188/188 [==============================] - 9s 49ms/step - loss: 1.0592 - accuracy: 0.6156 - val_loss: 1.0645 - val_accuracy: 0.6214\n",
      "Epoch 20/30\n",
      "188/188 [==============================] - 9s 49ms/step - loss: 1.0534 - accuracy: 0.6145 - val_loss: 1.0578 - val_accuracy: 0.6275\n",
      "Epoch 21/30\n",
      "188/188 [==============================] - 9s 50ms/step - loss: 1.0354 - accuracy: 0.6233 - val_loss: 1.0487 - val_accuracy: 0.6300\n",
      "Epoch 22/30\n",
      "188/188 [==============================] - 9s 49ms/step - loss: 1.0129 - accuracy: 0.6331 - val_loss: 1.0455 - val_accuracy: 0.6327\n",
      "Epoch 23/30\n",
      "188/188 [==============================] - 9s 50ms/step - loss: 1.0062 - accuracy: 0.6345 - val_loss: 1.0453 - val_accuracy: 0.6328\n",
      "Epoch 24/30\n",
      "188/188 [==============================] - 10s 52ms/step - loss: 0.9913 - accuracy: 0.6405 - val_loss: 1.0565 - val_accuracy: 0.6234\n",
      "Epoch 25/30\n",
      "188/188 [==============================] - 9s 50ms/step - loss: 0.9752 - accuracy: 0.6440 - val_loss: 1.0616 - val_accuracy: 0.6247\n",
      "Epoch 26/30\n",
      "188/188 [==============================] - 9s 49ms/step - loss: 0.9710 - accuracy: 0.6467 - val_loss: 1.0449 - val_accuracy: 0.6317\n",
      "Epoch 27/30\n",
      "188/188 [==============================] - 9s 50ms/step - loss: 0.9621 - accuracy: 0.6514 - val_loss: 1.0230 - val_accuracy: 0.6395\n",
      "Epoch 28/30\n",
      "188/188 [==============================] - 9s 50ms/step - loss: 0.9528 - accuracy: 0.6538 - val_loss: 1.0210 - val_accuracy: 0.6457\n",
      "Epoch 29/30\n",
      "188/188 [==============================] - 9s 50ms/step - loss: 0.9446 - accuracy: 0.6571 - val_loss: 1.0217 - val_accuracy: 0.6443\n",
      "Epoch 30/30\n",
      "188/188 [==============================] - 9s 49ms/step - loss: 0.9341 - accuracy: 0.6615 - val_loss: 1.0272 - val_accuracy: 0.6427\n"
     ]
    }
   ],
   "source": [
    "input = tf.keras.Input(shape=(32, 32, 3))\n",
    "normalized_input = tf.keras.layers.experimental.preprocessing.Rescaling(1./255)(input)\n",
    "x = tf.keras.layers.Conv2D(64, (3, 3), activation='relu')(normalized_input)\n",
    "x = tf.keras.layers.Dropout(0.2)(x)\n",
    "x = tf.keras.layers.MaxPooling2D((2, 2))(x)\n",
    "dense = tf.keras.layers.Flatten()(x)\n",
    "dense = tf.keras.layers.Dense(64, activation='relu')(dense)\n",
    "dense = tf.keras.layers.Dropout(0.2)(dense)\n",
    "dense = tf.keras.layers.Dense(16, activation='relu')(dense)\n",
    "output = tf.keras.layers.Dense(10, activation='softmax')(dense)\n",
    "model1_5 = tf.keras.Model(inputs=input, outputs=output)\n",
    "\n",
    "model1_5.compile(optimizer='adam', loss='sparse_categorical_crossentropy', metrics=['accuracy'])\n",
    "\n",
    "\n",
    "history1_5 = model1_5.fit(datagen.flow(X_train, y_train, batch_size=256), epochs=30, validation_data=(X_val, y_val))"
   ]
  },
  {
   "cell_type": "code",
   "execution_count": 47,
   "metadata": {},
   "outputs": [
    {
     "data": {
      "image/png": "[encoded data removed]",
      "text/plain": [
       "<Figure size 720x576 with 1 Axes>"
      ]
     },
     "metadata": {
      "needs_background": "light"
     },
     "output_type": "display_data"
    }
   ],
   "source": [
    "plot_history(history1_5)"
   ]
  },
  {
   "cell_type": "markdown",
   "metadata": {},
   "source": [
    "This time we can see that the train loss and validation loss are not diverging as much, however the validation accuracy and loss are roughly the same at 1.02 and 64% respectively, but dropout was definitely able to combat overfitting. "
   ]
  },
  {
   "cell_type": "markdown",
   "metadata": {},
   "source": [
    "## McNemar Test to test differences between model1 and model1_5"
   ]
  },
  {
   "cell_type": "code",
   "execution_count": 12,
   "metadata": {},
   "outputs": [],
   "source": [
    "y_pred_model1 = model1.predict(X_val)\n",
    "y_pred_model1_5 = model1_5.predict(X_val)\n",
    "\n",
    "y_pred_model1 = np.argmax(y_pred_model1, axis=1)\n",
    "y_pred_model1_5 = np.argmax(y_pred_model1_5, axis=1)\n",
    "\n",
    "\n",
    "model1_correct = np.sum((y_pred_model1 == y_val) & (y_pred_model1_5 != y_val))\n",
    "model1_5_correct = np.sum((y_pred_model1_5 == y_val) & (y_pred_model1 != y_val))\n",
    "\n",
    "critical_value = (model1_correct + model1_5_correct)**2 / (model1_correct + model1_5_correct)\n",
    "from scipy.stats import chi2\n",
    "import math\n",
    "\n",
    "p = 1 - chi2.cdf(math.sqrt(critical_value), 1)\n"
   ]
  },
  {
   "cell_type": "code",
   "execution_count": 13,
   "metadata": {},
   "outputs": [
    {
     "data": {
      "text/plain": [
       "1.0897949209720537e-12"
      ]
     },
     "execution_count": 13,
     "metadata": {},
     "output_type": "execute_result"
    }
   ],
   "source": [
    "p"
   ]
  },
  {
   "cell_type": "markdown",
   "metadata": {},
   "source": [
    "The p-value from the McNemar test was near zero, indicating that we can reject the null hypothesis that the models are the same. "
   ]
  },
  {
   "cell_type": "markdown",
   "metadata": {},
   "source": [
    "## Model 2:"
   ]
  },
  {
   "cell_type": "code",
   "execution_count": 46,
   "metadata": {},
   "outputs": [
    {
     "name": "stdout",
     "output_type": "stream",
     "text": [
      "Model: \"model_10\"\n",
      "_________________________________________________________________\n",
      " Layer (type)                Output Shape              Param #   \n",
      "=================================================================\n",
      " input_12 (InputLayer)       [(None, 32, 32, 3)]       0         \n",
      "                                                                 \n",
      " rescaling_11 (Rescaling)    (None, 32, 32, 3)         0         \n",
      "                                                                 \n",
      " conv2d_239 (Conv2D)         (None, 30, 30, 16)        448       \n",
      "                                                                 \n",
      " batch_normalization_224 (Ba  (None, 30, 30, 16)       64        \n",
      " tchNormalization)                                               \n",
      "                                                                 \n",
      " dropout_9 (Dropout)         (None, 30, 30, 16)        0         \n",
      "                                                                 \n",
      " conv2d_240 (Conv2D)         (None, 28, 28, 16)        2320      \n",
      "                                                                 \n",
      " batch_normalization_225 (Ba  (None, 28, 28, 16)       64        \n",
      " tchNormalization)                                               \n",
      "                                                                 \n",
      " dropout_10 (Dropout)        (None, 28, 28, 16)        0         \n",
      "                                                                 \n",
      " conv2d_241 (Conv2D)         (None, 26, 26, 16)        2320      \n",
      "                                                                 \n",
      " batch_normalization_226 (Ba  (None, 26, 26, 16)       64        \n",
      " tchNormalization)                                               \n",
      "                                                                 \n",
      " dropout_11 (Dropout)        (None, 26, 26, 16)        0         \n",
      "                                                                 \n",
      " conv2d_242 (Conv2D)         (None, 24, 24, 16)        2320      \n",
      "                                                                 \n",
      " batch_normalization_227 (Ba  (None, 24, 24, 16)       64        \n",
      " tchNormalization)                                               \n",
      "                                                                 \n",
      " dropout_12 (Dropout)        (None, 24, 24, 16)        0         \n",
      "                                                                 \n",
      " conv2d_243 (Conv2D)         (None, 22, 22, 16)        2320      \n",
      "                                                                 \n",
      " dropout_13 (Dropout)        (None, 22, 22, 16)        0         \n",
      "                                                                 \n",
      " conv2d_244 (Conv2D)         (None, 20, 20, 32)        4640      \n",
      "                                                                 \n",
      " dropout_14 (Dropout)        (None, 20, 20, 32)        0         \n",
      "                                                                 \n",
      " conv2d_245 (Conv2D)         (None, 18, 18, 32)        9248      \n",
      "                                                                 \n",
      " max_pooling2d_6 (MaxPooling  (None, 9, 9, 32)         0         \n",
      " 2D)                                                             \n",
      "                                                                 \n",
      " conv2d_246 (Conv2D)         (None, 7, 7, 32)          9248      \n",
      "                                                                 \n",
      " max_pooling2d_7 (MaxPooling  (None, 3, 3, 32)         0         \n",
      " 2D)                                                             \n",
      "                                                                 \n",
      " conv2d_247 (Conv2D)         (None, 1, 1, 32)          9248      \n",
      "                                                                 \n",
      " flatten_10 (Flatten)        (None, 32)                0         \n",
      "                                                                 \n",
      " dense_27 (Dense)            (None, 32)                1056      \n",
      "                                                                 \n",
      " dense_28 (Dense)            (None, 10)                330       \n",
      "                                                                 \n",
      "=================================================================\n",
      "Total params: 43,754\n",
      "Trainable params: 43,626\n",
      "Non-trainable params: 128\n",
      "_________________________________________________________________\n",
      "Epoch 1/35\n"
     ]
    },
    {
     "name": "stderr",
     "output_type": "stream",
     "text": [
      "2022-12-04 13:24:18.417380: E tensorflow/core/grappler/optimizers/meta_optimizer.cc:954] layout failed: INVALID_ARGUMENT: Size of values 0 does not match size of permutation 4 @ fanin shape inmodel_10/dropout_9/dropout/SelectV2-2-TransposeNHWCToNCHW-LayoutOptimizer\n",
      "2022-12-04 13:24:18.938329: W tensorflow/compiler/xla/stream_executor/gpu/asm_compiler.cc:115] *** WARNING *** You are using ptxas 11.0.221, which is older than 11.1. ptxas before 11.1 is known to miscompile XLA code, leading to incorrect results or invalid-address errors.\n",
      "\n",
      "You may not need to update to CUDA 11.1; cherry-picking the ptxas binary is often sufficient.\n"
     ]
    },
    {
     "name": "stdout",
     "output_type": "stream",
     "text": [
      " 3/94 [..............................] - ETA: 4s - loss: 2.4785 - accuracy: 0.0892"
     ]
    },
    {
     "name": "stderr",
     "output_type": "stream",
     "text": [
      "2022-12-04 13:24:20.612166: W tensorflow/compiler/xla/stream_executor/gpu/asm_compiler.cc:115] *** WARNING *** You are using ptxas 11.0.221, which is older than 11.1. ptxas before 11.1 is known to miscompile XLA code, leading to incorrect results or invalid-address errors.\n",
      "\n",
      "You may not need to update to CUDA 11.1; cherry-picking the ptxas binary is often sufficient.\n"
     ]
    },
    {
     "name": "stdout",
     "output_type": "stream",
     "text": [
      "94/94 [==============================] - 10s 74ms/step - loss: 2.1419 - accuracy: 0.1771 - val_loss: 2.2927 - val_accuracy: 0.1525\n",
      "Epoch 2/35\n",
      "94/94 [==============================] - 6s 61ms/step - loss: 1.8416 - accuracy: 0.2866 - val_loss: 2.3030 - val_accuracy: 0.1547\n",
      "Epoch 3/35\n",
      "94/94 [==============================] - 6s 60ms/step - loss: 1.7311 - accuracy: 0.3453 - val_loss: 2.4209 - val_accuracy: 0.1577\n",
      "Epoch 4/35\n",
      "94/94 [==============================] - 6s 61ms/step - loss: 1.6492 - accuracy: 0.3805 - val_loss: 2.4055 - val_accuracy: 0.1902\n",
      "Epoch 5/35\n",
      "94/94 [==============================] - 6s 61ms/step - loss: 1.5906 - accuracy: 0.4064 - val_loss: 2.3880 - val_accuracy: 0.2057\n",
      "Epoch 6/35\n",
      "94/94 [==============================] - 6s 61ms/step - loss: 1.5462 - accuracy: 0.4239 - val_loss: 1.8621 - val_accuracy: 0.3304\n",
      "Epoch 7/35\n",
      "94/94 [==============================] - 6s 61ms/step - loss: 1.5050 - accuracy: 0.4412 - val_loss: 1.7160 - val_accuracy: 0.3916\n",
      "Epoch 8/35\n",
      "94/94 [==============================] - 6s 61ms/step - loss: 1.4670 - accuracy: 0.4580 - val_loss: 1.6831 - val_accuracy: 0.4001\n",
      "Epoch 9/35\n",
      "94/94 [==============================] - 6s 61ms/step - loss: 1.4372 - accuracy: 0.4725 - val_loss: 1.4272 - val_accuracy: 0.4905\n",
      "Epoch 10/35\n",
      "94/94 [==============================] - 6s 61ms/step - loss: 1.4001 - accuracy: 0.4871 - val_loss: 1.5101 - val_accuracy: 0.4650\n",
      "Epoch 11/35\n",
      "94/94 [==============================] - 6s 61ms/step - loss: 1.3669 - accuracy: 0.5014 - val_loss: 1.4562 - val_accuracy: 0.4866\n",
      "Epoch 12/35\n",
      "94/94 [==============================] - 6s 61ms/step - loss: 1.3445 - accuracy: 0.5091 - val_loss: 1.5291 - val_accuracy: 0.4614\n",
      "Epoch 13/35\n",
      "94/94 [==============================] - 6s 61ms/step - loss: 1.3196 - accuracy: 0.5175 - val_loss: 1.3459 - val_accuracy: 0.5224\n",
      "Epoch 14/35\n",
      "94/94 [==============================] - 6s 61ms/step - loss: 1.2993 - accuracy: 0.5279 - val_loss: 1.3230 - val_accuracy: 0.5356\n",
      "Epoch 15/35\n",
      "94/94 [==============================] - 6s 61ms/step - loss: 1.2812 - accuracy: 0.5344 - val_loss: 1.3617 - val_accuracy: 0.5297\n",
      "Epoch 16/35\n",
      "94/94 [==============================] - 6s 60ms/step - loss: 1.2673 - accuracy: 0.5426 - val_loss: 1.3090 - val_accuracy: 0.5388\n",
      "Epoch 17/35\n",
      "94/94 [==============================] - 6s 61ms/step - loss: 1.2461 - accuracy: 0.5504 - val_loss: 1.2771 - val_accuracy: 0.5447\n",
      "Epoch 18/35\n",
      "94/94 [==============================] - 6s 60ms/step - loss: 1.2322 - accuracy: 0.5557 - val_loss: 1.2210 - val_accuracy: 0.5757\n",
      "Epoch 19/35\n",
      "94/94 [==============================] - 6s 61ms/step - loss: 1.2138 - accuracy: 0.5633 - val_loss: 1.2625 - val_accuracy: 0.5614\n",
      "Epoch 20/35\n",
      "94/94 [==============================] - 6s 61ms/step - loss: 1.2087 - accuracy: 0.5666 - val_loss: 1.2557 - val_accuracy: 0.5651\n",
      "Epoch 21/35\n",
      "94/94 [==============================] - 6s 60ms/step - loss: 1.1891 - accuracy: 0.5720 - val_loss: 1.2708 - val_accuracy: 0.5583\n",
      "Epoch 22/35\n",
      "94/94 [==============================] - 6s 61ms/step - loss: 1.1785 - accuracy: 0.5760 - val_loss: 1.2182 - val_accuracy: 0.5805\n",
      "Epoch 23/35\n",
      "94/94 [==============================] - 6s 61ms/step - loss: 1.1685 - accuracy: 0.5818 - val_loss: 1.1665 - val_accuracy: 0.5906\n",
      "Epoch 24/35\n",
      "94/94 [==============================] - 6s 60ms/step - loss: 1.1482 - accuracy: 0.5892 - val_loss: 1.2706 - val_accuracy: 0.5602\n",
      "Epoch 25/35\n",
      "94/94 [==============================] - 6s 61ms/step - loss: 1.1519 - accuracy: 0.5903 - val_loss: 1.2116 - val_accuracy: 0.5839\n",
      "Epoch 26/35\n",
      "94/94 [==============================] - 6s 60ms/step - loss: 1.1402 - accuracy: 0.5925 - val_loss: 1.2123 - val_accuracy: 0.5775\n",
      "Epoch 27/35\n",
      "94/94 [==============================] - 6s 60ms/step - loss: 1.1300 - accuracy: 0.5947 - val_loss: 1.1361 - val_accuracy: 0.6018\n",
      "Epoch 28/35\n",
      "94/94 [==============================] - 6s 60ms/step - loss: 1.1172 - accuracy: 0.5987 - val_loss: 1.1119 - val_accuracy: 0.6114\n",
      "Epoch 29/35\n",
      "94/94 [==============================] - 6s 60ms/step - loss: 1.1138 - accuracy: 0.6024 - val_loss: 1.3031 - val_accuracy: 0.5413\n",
      "Epoch 30/35\n",
      "94/94 [==============================] - 6s 61ms/step - loss: 1.1071 - accuracy: 0.6065 - val_loss: 1.1094 - val_accuracy: 0.6121\n",
      "Epoch 31/35\n",
      "94/94 [==============================] - 6s 61ms/step - loss: 1.1024 - accuracy: 0.6065 - val_loss: 1.1860 - val_accuracy: 0.5860\n",
      "Epoch 32/35\n",
      "94/94 [==============================] - 6s 61ms/step - loss: 1.0968 - accuracy: 0.6103 - val_loss: 1.1134 - val_accuracy: 0.6124\n",
      "Epoch 33/35\n",
      "94/94 [==============================] - 6s 60ms/step - loss: 1.0887 - accuracy: 0.6120 - val_loss: 1.2191 - val_accuracy: 0.5744\n",
      "Epoch 34/35\n",
      "94/94 [==============================] - 6s 60ms/step - loss: 1.0761 - accuracy: 0.6181 - val_loss: 1.1142 - val_accuracy: 0.6118\n",
      "Epoch 35/35\n",
      "94/94 [==============================] - 6s 60ms/step - loss: 1.0704 - accuracy: 0.6215 - val_loss: 1.2061 - val_accuracy: 0.5786\n"
     ]
    }
   ],
   "source": [
    "input = tf.keras.Input(shape=(32, 32, 3))\n",
    "normalized_input = tf.keras.layers.experimental.preprocessing.Rescaling(1./255)(input)\n",
    "\n",
    "x = tf.keras.layers.Conv2D(16, (3, 3), activation='relu')(normalized_input)\n",
    "x = tf.keras.layers.BatchNormalization()(x)\n",
    "x = tf.keras.layers.Dropout(0.4)(x)\n",
    "x = tf.keras.layers.Conv2D(16, (3, 3), activation='relu')(x)\n",
    "x = tf.keras.layers.BatchNormalization()(x)\n",
    "x = tf.keras.layers.Dropout(0.4)(x)\n",
    "x = tf.keras.layers.Conv2D(16, (3, 3), activation='relu')(x)\n",
    "x = tf.keras.layers.BatchNormalization()(x)\n",
    "x = tf.keras.layers.Dropout(0.4)(x)\n",
    "x = tf.keras.layers.Conv2D(16, (3, 3), activation='relu')(x)\n",
    "x = tf.keras.layers.BatchNormalization()(x)\n",
    "x = tf.keras.layers.Dropout(0.4)(x)\n",
    "x = tf.keras.layers.Conv2D(16, (3, 3), activation='relu')(x)\n",
    "x = tf.keras.layers.Dropout(0.4)(x)\n",
    "x = tf.keras.layers.Conv2D(32, (3, 3), activation='relu')(x)\n",
    "x = tf.keras.layers.Dropout(0.4)(x)\n",
    "x = tf.keras.layers.Conv2D(32, (3, 3), activation='relu')(x)\n",
    "x = tf.keras.layers.MaxPooling2D((2, 2))(x)\n",
    "x = tf.keras.layers.Conv2D(32, (3, 3), activation='relu')(x)\n",
    "x = tf.keras.layers.MaxPooling2D((2, 2))(x)\n",
    "x = tf.keras.layers.Conv2D(32, (3, 3), activation='relu')(x)\n",
    "\n",
    "dense = tf.keras.layers.Flatten()(x)\n",
    "dense = tf.keras.layers.Dense(32, activation='relu')(dense)\n",
    "output = tf.keras.layers.Dense(10, activation='softmax')(dense)\n",
    "\n",
    "model2 = tf.keras.Model(inputs=input, outputs=output)\n",
    "\n",
    "model2.compile(optimizer='adam', loss='sparse_categorical_crossentropy', metrics=['accuracy'])\n",
    "\n",
    "model2.summary()\n",
    "\n",
    "history2 = model2.fit(datagen.flow(X_train, y_train, batch_size=512), epochs=35, validation_data=(X_val, y_val))"
   ]
  },
  {
   "cell_type": "code",
   "execution_count": 15,
   "metadata": {},
   "outputs": [],
   "source": [
    "model2.save('model2.h5')"
   ]
  },
  {
   "cell_type": "code",
   "execution_count": 16,
   "metadata": {},
   "outputs": [
    {
     "data": {
      "image/png": "[encoded data removed]",
      "text/plain": [
       "<Figure size 720x576 with 1 Axes>"
      ]
     },
     "metadata": {
      "needs_background": "light"
     },
     "output_type": "display_data"
    }
   ],
   "source": [
    "plot_history(history2)"
   ]
  },
  {
   "cell_type": "markdown",
   "metadata": {},
   "source": [
    "The training and validation loss hae converged by the end of training, but the validation loss is quite noisy in how it changes towards the end of training. The ending validation accuracy is around 61%, which is worse than both variations of model one, let's see if we can improve on that by increasing the number of filters."
   ]
  },
  {
   "cell_type": "markdown",
   "metadata": {},
   "source": [
    "## Model 2.5:"
   ]
  },
  {
   "cell_type": "code",
   "execution_count": 20,
   "metadata": {},
   "outputs": [
    {
     "name": "stdout",
     "output_type": "stream",
     "text": [
      "Epoch 1/35\n"
     ]
    },
    {
     "name": "stderr",
     "output_type": "stream",
     "text": [
      "2022-12-03 23:39:39.121844: E tensorflow/core/grappler/optimizers/meta_optimizer.cc:954] layout failed: INVALID_ARGUMENT: Size of values 0 does not match size of permutation 4 @ fanin shape inmodel_3/dropout/dropout/SelectV2-2-TransposeNHWCToNCHW-LayoutOptimizer\n",
      "2022-12-03 23:39:42.061960: W tensorflow/compiler/xla/stream_executor/gpu/asm_compiler.cc:115] *** WARNING *** You are using ptxas 11.0.221, which is older than 11.1. ptxas before 11.1 is known to miscompile XLA code, leading to incorrect results or invalid-address errors.\n",
      "\n",
      "You may not need to update to CUDA 11.1; cherry-picking the ptxas binary is often sufficient.\n",
      "2022-12-03 23:39:42.148242: W tensorflow/compiler/xla/stream_executor/gpu/asm_compiler.cc:115] *** WARNING *** You are using ptxas 11.0.221, which is older than 11.1. ptxas before 11.1 is known to miscompile XLA code, leading to incorrect results or invalid-address errors.\n",
      "\n",
      "You may not need to update to CUDA 11.1; cherry-picking the ptxas binary is often sufficient.\n",
      "2022-12-03 23:39:42.439108: W tensorflow/compiler/xla/stream_executor/gpu/asm_compiler.cc:115] *** WARNING *** You are using ptxas 11.0.221, which is older than 11.1. ptxas before 11.1 is known to miscompile XLA code, leading to incorrect results or invalid-address errors.\n",
      "\n",
      "You may not need to update to CUDA 11.1; cherry-picking the ptxas binary is often sufficient.\n"
     ]
    },
    {
     "name": "stdout",
     "output_type": "stream",
     "text": [
      " 1/94 [..............................] - ETA: 9:57 - loss: 2.7065 - accuracy: 0.1055"
     ]
    },
    {
     "name": "stderr",
     "output_type": "stream",
     "text": [
      "2022-12-03 23:39:44.674853: W tensorflow/compiler/xla/stream_executor/gpu/asm_compiler.cc:115] *** WARNING *** You are using ptxas 11.0.221, which is older than 11.1. ptxas before 11.1 is known to miscompile XLA code, leading to incorrect results or invalid-address errors.\n",
      "\n",
      "You may not need to update to CUDA 11.1; cherry-picking the ptxas binary is often sufficient.\n"
     ]
    },
    {
     "name": "stdout",
     "output_type": "stream",
     "text": [
      "94/94 [==============================] - 33s 282ms/step - loss: 2.1344 - accuracy: 0.1737 - val_loss: 2.3306 - val_accuracy: 0.1153\n",
      "Epoch 2/35\n",
      "94/94 [==============================] - 23s 242ms/step - loss: 1.6912 - accuracy: 0.3635 - val_loss: 2.7008 - val_accuracy: 0.1524\n",
      "Epoch 3/35\n",
      "94/94 [==============================] - 23s 243ms/step - loss: 1.4221 - accuracy: 0.4765 - val_loss: 3.5781 - val_accuracy: 0.1024\n",
      "Epoch 4/35\n",
      "94/94 [==============================] - 23s 244ms/step - loss: 1.2781 - accuracy: 0.5341 - val_loss: 4.3062 - val_accuracy: 0.1024\n",
      "Epoch 5/35\n",
      "94/94 [==============================] - 23s 244ms/step - loss: 1.1856 - accuracy: 0.5756 - val_loss: 3.1952 - val_accuracy: 0.1467\n",
      "Epoch 6/35\n",
      "94/94 [==============================] - 23s 244ms/step - loss: 1.1150 - accuracy: 0.5967 - val_loss: 1.6735 - val_accuracy: 0.4073\n",
      "Epoch 7/35\n",
      "94/94 [==============================] - 23s 244ms/step - loss: 1.0575 - accuracy: 0.6227 - val_loss: 1.2810 - val_accuracy: 0.5522\n",
      "Epoch 8/35\n",
      "94/94 [==============================] - 23s 244ms/step - loss: 1.0081 - accuracy: 0.6394 - val_loss: 1.0694 - val_accuracy: 0.6164\n",
      "Epoch 9/35\n",
      "94/94 [==============================] - 23s 244ms/step - loss: 0.9602 - accuracy: 0.6583 - val_loss: 1.0038 - val_accuracy: 0.6458\n",
      "Epoch 10/35\n",
      "94/94 [==============================] - 23s 244ms/step - loss: 0.9189 - accuracy: 0.6759 - val_loss: 1.1956 - val_accuracy: 0.5782\n",
      "Epoch 11/35\n",
      "94/94 [==============================] - 23s 244ms/step - loss: 0.8880 - accuracy: 0.6833 - val_loss: 0.9285 - val_accuracy: 0.6758\n",
      "Epoch 12/35\n",
      "94/94 [==============================] - 23s 244ms/step - loss: 0.8564 - accuracy: 0.6967 - val_loss: 0.8603 - val_accuracy: 0.7003\n",
      "Epoch 13/35\n",
      "94/94 [==============================] - 23s 244ms/step - loss: 0.8199 - accuracy: 0.7110 - val_loss: 0.8617 - val_accuracy: 0.7016\n",
      "Epoch 14/35\n",
      "94/94 [==============================] - 23s 244ms/step - loss: 0.7927 - accuracy: 0.7206 - val_loss: 0.8489 - val_accuracy: 0.7023\n",
      "Epoch 15/35\n",
      "94/94 [==============================] - 23s 244ms/step - loss: 0.7621 - accuracy: 0.7331 - val_loss: 0.8375 - val_accuracy: 0.7048\n",
      "Epoch 16/35\n",
      "94/94 [==============================] - 23s 244ms/step - loss: 0.7419 - accuracy: 0.7377 - val_loss: 0.7911 - val_accuracy: 0.7262\n",
      "Epoch 17/35\n",
      "94/94 [==============================] - 23s 244ms/step - loss: 0.7237 - accuracy: 0.7433 - val_loss: 0.8438 - val_accuracy: 0.7044\n",
      "Epoch 18/35\n",
      "94/94 [==============================] - 23s 244ms/step - loss: 0.6980 - accuracy: 0.7536 - val_loss: 0.8479 - val_accuracy: 0.7072\n",
      "Epoch 19/35\n",
      "94/94 [==============================] - 23s 244ms/step - loss: 0.6818 - accuracy: 0.7594 - val_loss: 0.7574 - val_accuracy: 0.7383\n",
      "Epoch 20/35\n",
      "94/94 [==============================] - 23s 244ms/step - loss: 0.6671 - accuracy: 0.7660 - val_loss: 0.8155 - val_accuracy: 0.7162\n",
      "Epoch 21/35\n",
      "94/94 [==============================] - 23s 244ms/step - loss: 0.6528 - accuracy: 0.7683 - val_loss: 0.7137 - val_accuracy: 0.7568\n",
      "Epoch 22/35\n",
      "94/94 [==============================] - 23s 244ms/step - loss: 0.6305 - accuracy: 0.7775 - val_loss: 0.7786 - val_accuracy: 0.7330\n",
      "Epoch 23/35\n",
      "94/94 [==============================] - 23s 244ms/step - loss: 0.6111 - accuracy: 0.7836 - val_loss: 0.7531 - val_accuracy: 0.7389\n",
      "Epoch 24/35\n",
      "94/94 [==============================] - 23s 244ms/step - loss: 0.5936 - accuracy: 0.7901 - val_loss: 0.7315 - val_accuracy: 0.7470\n",
      "Epoch 25/35\n",
      "94/94 [==============================] - 23s 244ms/step - loss: 0.5887 - accuracy: 0.7916 - val_loss: 0.7032 - val_accuracy: 0.7595\n",
      "Epoch 26/35\n",
      "94/94 [==============================] - 23s 244ms/step - loss: 0.5740 - accuracy: 0.7951 - val_loss: 0.6835 - val_accuracy: 0.7693\n",
      "Epoch 27/35\n",
      "94/94 [==============================] - 23s 244ms/step - loss: 0.5538 - accuracy: 0.8041 - val_loss: 0.7185 - val_accuracy: 0.7496\n",
      "Epoch 28/35\n",
      "94/94 [==============================] - 23s 244ms/step - loss: 0.5543 - accuracy: 0.8035 - val_loss: 0.6770 - val_accuracy: 0.7704\n",
      "Epoch 29/35\n",
      "94/94 [==============================] - 23s 244ms/step - loss: 0.5378 - accuracy: 0.8100 - val_loss: 0.7446 - val_accuracy: 0.7478\n",
      "Epoch 30/35\n",
      "94/94 [==============================] - 23s 244ms/step - loss: 0.5341 - accuracy: 0.8132 - val_loss: 0.7116 - val_accuracy: 0.7573\n",
      "Epoch 31/35\n",
      "94/94 [==============================] - 23s 244ms/step - loss: 0.5191 - accuracy: 0.8165 - val_loss: 0.6653 - val_accuracy: 0.7757\n",
      "Epoch 32/35\n",
      "94/94 [==============================] - 23s 244ms/step - loss: 0.5049 - accuracy: 0.8215 - val_loss: 0.6867 - val_accuracy: 0.7671\n",
      "Epoch 33/35\n",
      "94/94 [==============================] - 23s 244ms/step - loss: 0.4950 - accuracy: 0.8253 - val_loss: 0.7106 - val_accuracy: 0.7594\n",
      "Epoch 34/35\n",
      "94/94 [==============================] - 23s 244ms/step - loss: 0.4927 - accuracy: 0.8246 - val_loss: 0.7168 - val_accuracy: 0.7565\n",
      "Epoch 35/35\n",
      "94/94 [==============================] - 23s 244ms/step - loss: 0.4759 - accuracy: 0.8325 - val_loss: 0.7175 - val_accuracy: 0.7613\n"
     ]
    }
   ],
   "source": [
    "input = tf.keras.Input(shape=(32, 32, 3))\n",
    "normalized_input = tf.keras.layers.experimental.preprocessing.Rescaling(1./255)(input)\n",
    "\n",
    "x = tf.keras.layers.Conv2D(32, (3, 3), activation='relu')(normalized_input)\n",
    "x = tf.keras.layers.BatchNormalization()(x)\n",
    "x = tf.keras.layers.Dropout(0.4)(x)\n",
    "x = tf.keras.layers.Conv2D(64, (3, 3), activation='relu')(x)\n",
    "x = tf.keras.layers.BatchNormalization()(x)\n",
    "x = tf.keras.layers.Dropout(0.4)(x)\n",
    "x = tf.keras.layers.Conv2D(64, (3, 3), activation='relu')(x)\n",
    "x = tf.keras.layers.BatchNormalization()(x)\n",
    "x = tf.keras.layers.Dropout(0.4)(x)\n",
    "x = tf.keras.layers.Conv2D(64, (3, 3), activation='relu')(x)\n",
    "x = tf.keras.layers.BatchNormalization()(x)\n",
    "x = tf.keras.layers.Dropout(0.4)(x)\n",
    "x = tf.keras.layers.Conv2D(64, (3, 3), activation='relu')(x)\n",
    "x = tf.keras.layers.Dropout(0.4)(x)\n",
    "x = tf.keras.layers.Conv2D(128, (3, 3), activation='relu')(x)\n",
    "x = tf.keras.layers.Dropout(0.4)(x)\n",
    "x = tf.keras.layers.Conv2D(256, (3, 3), activation='relu')(x)\n",
    "x = tf.keras.layers.MaxPooling2D((2, 2))(x)\n",
    "x = tf.keras.layers.Conv2D(128, (3, 3), activation='relu')(x)\n",
    "x = tf.keras.layers.MaxPooling2D((2, 2))(x)\n",
    "x = tf.keras.layers.Conv2D(256, (3, 3), activation='relu')(x)\n",
    "\n",
    "dense = tf.keras.layers.Flatten()(x)\n",
    "dense = tf.keras.layers.Dense(64, activation='relu')(dense)\n",
    "output = tf.keras.layers.Dense(10, activation='softmax')(dense)\n",
    "\n",
    "model2_5 = tf.keras.Model(inputs=input, outputs=output)\n",
    "\n",
    "model2_5.compile(optimizer='adam', loss='sparse_categorical_crossentropy', metrics=['accuracy'])\n",
    "\n",
    "\n",
    "history2_5 = model2_5.fit(datagen.flow(X_train, y_train, batch_size=512), epochs=35, validation_data=(X_val, y_val))"
   ]
  },
  {
   "cell_type": "code",
   "execution_count": 21,
   "metadata": {},
   "outputs": [
    {
     "data": {
      "image/png": "[encoded data removed]",
      "text/plain": [
       "<Figure size 720x576 with 1 Axes>"
      ]
     },
     "metadata": {
      "needs_background": "light"
     },
     "output_type": "display_data"
    }
   ],
   "source": [
    "plot_history(history2_5)"
   ]
  },
  {
   "cell_type": "markdown",
   "metadata": {},
   "source": [
    "The network converges at a much lower training and validation loss than before, as seen by the graph, and achieves a significant boost in both validation loss (.71 compared to 1.11) and validation accuracy (76% compared to 61%)"
   ]
  },
  {
   "cell_type": "markdown",
   "metadata": {},
   "source": [
    "## Standard MLP:"
   ]
  },
  {
   "cell_type": "code",
   "execution_count": 28,
   "metadata": {},
   "outputs": [
    {
     "name": "stdout",
     "output_type": "stream",
     "text": [
      "Epoch 1/23\n",
      "94/94 [==============================] - 2s 15ms/step - loss: 2.0906 - accuracy: 0.2573 - val_loss: 1.8582 - val_accuracy: 0.3344\n",
      "Epoch 2/23\n",
      "94/94 [==============================] - 1s 12ms/step - loss: 1.7783 - accuracy: 0.3640 - val_loss: 1.7516 - val_accuracy: 0.3633\n",
      "Epoch 3/23\n",
      "94/94 [==============================] - 1s 12ms/step - loss: 1.6674 - accuracy: 0.4038 - val_loss: 1.6472 - val_accuracy: 0.4157\n",
      "Epoch 4/23\n",
      "94/94 [==============================] - 1s 13ms/step - loss: 1.6011 - accuracy: 0.4289 - val_loss: 1.6067 - val_accuracy: 0.4294\n",
      "Epoch 5/23\n",
      "94/94 [==============================] - 1s 12ms/step - loss: 1.5454 - accuracy: 0.4490 - val_loss: 1.5679 - val_accuracy: 0.4452\n",
      "Epoch 6/23\n",
      "94/94 [==============================] - 1s 12ms/step - loss: 1.4973 - accuracy: 0.4674 - val_loss: 1.5275 - val_accuracy: 0.4621\n",
      "Epoch 7/23\n",
      "94/94 [==============================] - 1s 12ms/step - loss: 1.4686 - accuracy: 0.4759 - val_loss: 1.5168 - val_accuracy: 0.4656\n",
      "Epoch 8/23\n",
      "94/94 [==============================] - 1s 12ms/step - loss: 1.4306 - accuracy: 0.4889 - val_loss: 1.4916 - val_accuracy: 0.4688\n",
      "Epoch 9/23\n",
      "94/94 [==============================] - 1s 11ms/step - loss: 1.4036 - accuracy: 0.4992 - val_loss: 1.4611 - val_accuracy: 0.4831\n",
      "Epoch 10/23\n",
      "94/94 [==============================] - 1s 12ms/step - loss: 1.3708 - accuracy: 0.5123 - val_loss: 1.4626 - val_accuracy: 0.4910\n",
      "Epoch 11/23\n",
      "94/94 [==============================] - 1s 12ms/step - loss: 1.3482 - accuracy: 0.5204 - val_loss: 1.4408 - val_accuracy: 0.4914\n",
      "Epoch 12/23\n",
      "94/94 [==============================] - 1s 12ms/step - loss: 1.3264 - accuracy: 0.5257 - val_loss: 1.4142 - val_accuracy: 0.5063\n",
      "Epoch 13/23\n",
      "94/94 [==============================] - 1s 12ms/step - loss: 1.2904 - accuracy: 0.5375 - val_loss: 1.4086 - val_accuracy: 0.5079\n",
      "Epoch 14/23\n",
      "94/94 [==============================] - 1s 12ms/step - loss: 1.2760 - accuracy: 0.5454 - val_loss: 1.4055 - val_accuracy: 0.5027\n",
      "Epoch 15/23\n",
      "94/94 [==============================] - 1s 12ms/step - loss: 1.2497 - accuracy: 0.5538 - val_loss: 1.3955 - val_accuracy: 0.5035\n",
      "Epoch 16/23\n",
      "94/94 [==============================] - 1s 12ms/step - loss: 1.2282 - accuracy: 0.5617 - val_loss: 1.4102 - val_accuracy: 0.5096\n",
      "Epoch 17/23\n",
      "94/94 [==============================] - 1s 12ms/step - loss: 1.1950 - accuracy: 0.5735 - val_loss: 1.3742 - val_accuracy: 0.5195\n",
      "Epoch 18/23\n",
      "94/94 [==============================] - 1s 12ms/step - loss: 1.1808 - accuracy: 0.5784 - val_loss: 1.3665 - val_accuracy: 0.5232\n",
      "Epoch 19/23\n",
      "94/94 [==============================] - 1s 12ms/step - loss: 1.1471 - accuracy: 0.5915 - val_loss: 1.3785 - val_accuracy: 0.5239\n",
      "Epoch 20/23\n",
      "94/94 [==============================] - 1s 12ms/step - loss: 1.1235 - accuracy: 0.6001 - val_loss: 1.3723 - val_accuracy: 0.5236\n",
      "Epoch 21/23\n",
      "94/94 [==============================] - 1s 12ms/step - loss: 1.0976 - accuracy: 0.6098 - val_loss: 1.3900 - val_accuracy: 0.5192\n",
      "Epoch 22/23\n",
      "94/94 [==============================] - 1s 13ms/step - loss: 1.0876 - accuracy: 0.6137 - val_loss: 1.3593 - val_accuracy: 0.5339\n",
      "Epoch 23/23\n",
      "94/94 [==============================] - 1s 12ms/step - loss: 1.0522 - accuracy: 0.6271 - val_loss: 1.3645 - val_accuracy: 0.5322\n"
     ]
    }
   ],
   "source": [
    "input = tf.keras.Input(shape=(32, 32, 3))\n",
    "normalized_input = tf.keras.layers.experimental.preprocessing.Rescaling(1./255)(input)\n",
    "\n",
    "dense = tf.keras.layers.Flatten()(normalized_input)\n",
    "dense = tf.keras.layers.Dense(1024, activation='relu')(dense)\n",
    "dense = tf.keras.layers.Dense(512, activation='relu')(dense)\n",
    "dense = tf.keras.layers.Dense(256, activation='relu')(dense)\n",
    "\n",
    "output = tf.keras.layers.Dense(10, activation='softmax')(dense)\n",
    "\n",
    "model_mpl = tf.keras.Model(inputs=input, outputs=output)\n",
    "\n",
    "model_mpl.compile(optimizer='adam', loss='sparse_categorical_crossentropy', metrics=['accuracy'])\n",
    "\n",
    "history_mpl = model_mpl.fit(datagen.flow(X_train, y_train, batch_size=512), epochs=23, validation_data=(X_val, y_val))\n"
   ]
  },
  {
   "cell_type": "code",
   "execution_count": 33,
   "metadata": {},
   "outputs": [
    {
     "name": "stdout",
     "output_type": "stream",
     "text": [
      "Model: \"model_7\"\n",
      "_________________________________________________________________\n",
      " Layer (type)                Output Shape              Param #   \n",
      "=================================================================\n",
      " input_9 (InputLayer)        [(None, 32, 32, 3)]       0         \n",
      "                                                                 \n",
      " rescaling_8 (Rescaling)     (None, 32, 32, 3)         0         \n",
      "                                                                 \n",
      " flatten_7 (Flatten)         (None, 3072)              0         \n",
      "                                                                 \n",
      " dense_17 (Dense)            (None, 1024)              3146752   \n",
      "                                                                 \n",
      " dense_18 (Dense)            (None, 512)               524800    \n",
      "                                                                 \n",
      " dense_19 (Dense)            (None, 256)               131328    \n",
      "                                                                 \n",
      " dense_20 (Dense)            (None, 10)                2570      \n",
      "                                                                 \n",
      "=================================================================\n",
      "Total params: 3,805,450\n",
      "Trainable params: 3,805,450\n",
      "Non-trainable params: 0\n",
      "_________________________________________________________________\n"
     ]
    }
   ],
   "source": [
    "model_mpl.summary()"
   ]
  },
  {
   "cell_type": "code",
   "execution_count": 29,
   "metadata": {},
   "outputs": [
    {
     "data": {
      "image/png": "[encoded data removed]",
      "text/plain": [
       "<Figure size 720x576 with 1 Axes>"
      ]
     },
     "metadata": {
      "needs_background": "light"
     },
     "output_type": "display_data"
    }
   ],
   "source": [
    "plot_history(history_mpl)"
   ]
  },
  {
   "cell_type": "markdown",
   "metadata": {},
   "source": [
    "The validation loss converges at around 15 epochs but the training loss diverges significantly from the validation loss. Unsurprisngly, the multilayer perceptron, is both not all that deep (5 layers), but has a lot of parameters due to no downsampling and all the layers being fully connected, making it very prone to overfittng and not all well suited for computer vision tasks. The validation loss converges at 1.35 and the validation accuracy at 53%."
   ]
  },
  {
   "cell_type": "markdown",
   "metadata": {},
   "source": [
    "## Comparing the five models:"
   ]
  },
  {
   "cell_type": "code",
   "execution_count": 25,
   "metadata": {},
   "outputs": [],
   "source": [
    "model1 = tf.keras.models.load_model('model1.h5')\n",
    "model2 = tf.keras.models.load_model('model2.h5')\n",
    "model2_5 = tf.keras.models.load_model('model2_5.h5')\n",
    "model_mpl = tf.keras.models.load_model('model_mpl.h5')\n",
    "model1_5 = tf.keras.models.load_model('model1_5.h5')\n",
    "model3 = tf.keras.models.load_model('model3.h5')"
   ]
  },
  {
   "cell_type": "code",
   "execution_count": 49,
   "metadata": {},
   "outputs": [],
   "source": [
    "# Calcaulte AUC for each class:\n",
    "from sklearn.metrics import roc_curve, auc\n",
    "from sklearn.preprocessing import label_binarize\n",
    "def average_auc(model):\n",
    "    global y_val\n",
    "    global X_val\n",
    "    y_pred = model.predict(X_val)\n",
    "    y_pred_guess = np.argmax(y_pred, axis=1)\n",
    "    sum = 0\n",
    "\n",
    "    for i in range(10):\n",
    "        y_val_one = np.where(y_val != i, 0, 1)\n",
    "        y_pred_one = y_pred[:,i]\n",
    "        fpr, tpr, trash = roc_curve(y_val_one, y_pred_one)\n",
    "        sum += auc(fpr, tpr)\n",
    "\n",
    "    return sum/10\n",
    "\n",
    "def plot_roc(model):\n",
    "    #plot ROC curve for each class without OneHotEncoding:\n",
    "    global y_val\n",
    "    global X_val\n",
    "    y_pred = model.predict(X_val)\n",
    "    y_pred_guess = np.argmax(y_pred, axis=1)\n",
    "    for i in range(10):\n",
    "        # make a new NP array which is 1 if the class is the current class and 0 otherwise:\n",
    "        y_val_one = np.where(y_val != i, 0, 1)\n",
    "        y_pred_one = y_pred[:,i]\n",
    "\n",
    "        fpr, tpr, trash = roc_curve(y_val_one, y_pred_one)\n",
    "        auc_score = auc(fpr, tpr)\n",
    "        plt.plot(fpr, tpr, label='class {} (area = {:.2f})'.format(i, auc_score))\n",
    "    \n",
    "    plt.legend()\n",
    "    plt.xlabel('False Positive Rate')\n",
    "    plt.ylabel('True Positive Rate')\n",
    "    plt.title('ROC Curve')\n",
    "    plt.show()"
   ]
  },
  {
   "cell_type": "code",
   "execution_count": 54,
   "metadata": {},
   "outputs": [
    {
     "name": "stdout",
     "output_type": "stream",
     "text": [
      "375/375 [==============================] - 27s 71ms/step\n",
      "Average AUC for model 2.5: 0.971221724537037\n",
      "375/375 [==============================] - 26s 70ms/step\n"
     ]
    },
    {
     "data": {
      "image/png": "[encoded data removed]",
      "text/plain": [
       "<Figure size 432x288 with 1 Axes>"
      ]
     },
     "metadata": {
      "needs_background": "light"
     },
     "output_type": "display_data"
    }
   ],
   "source": [
    "print(\"Average AUC for model 2.5: \" + str(average_auc(model2_5)))\n",
    "plot_roc(model2_5)\n",
    "\n"
   ]
  },
  {
   "cell_type": "code",
   "execution_count": 52,
   "metadata": {},
   "outputs": [
    {
     "name": "stdout",
     "output_type": "stream",
     "text": [
      "375/375 [==============================] - 2s 5ms/step\n",
      "Average AUC for standard MLP: 0.8959808333333333\n",
      "375/375 [==============================] - 2s 6ms/step\n"
     ]
    },
    {
     "data": {
      "image/png": "[encoded data removed]",
      "text/plain": [
       "<Figure size 432x288 with 1 Axes>"
      ]
     },
     "metadata": {
      "needs_background": "light"
     },
     "output_type": "display_data"
    }
   ],
   "source": [
    "print(\"Average AUC for standard MLP: \" + str(average_auc(model_mpl)))\n",
    "plot_roc(model_mpl)"
   ]
  },
  {
   "cell_type": "markdown",
   "metadata": {},
   "source": [
    "As we can see by the ROC charts, Model2.5 is clearly better at classifying than the standard MLP model which has a lower Area under the curve."
   ]
  },
  {
   "cell_type": "markdown",
   "metadata": {},
   "source": [
    "## Exceptional Work - Creating a 56 layer residual network\n",
    "\n",
    "\n",
    "\n",
    "Inspired by: \n",
    "https://arxiv.org/pdf/1512.03385.pdf\n",
    "\n",
    "\n",
    "Based on the original resnet paper, we will implment a thin and deep resnet using residual connections and downsampling layers in the from of stride 2 convolutions along with a pooling layer at the end feeding into a dense layer that makes the final clasification. This network makes heavy use of 3x3 convolutions and batch normalization as a way to add stochasticity to the network, along with the \"thin and deep\" architecture (only 868,000 parameters.) This network consists of 27 residual blocks total, along with the inital and ending layers, for a total of 56 layers. "
   ]
  },
  {
   "cell_type": "code",
   "execution_count": 17,
   "metadata": {},
   "outputs": [
    {
     "name": "stdout",
     "output_type": "stream",
     "text": [
      "Model: \"model_5\"\n",
      "__________________________________________________________________________________________________\n",
      " Layer (type)                   Output Shape         Param #     Connected to                     \n",
      "==================================================================================================\n",
      " input_6 (InputLayer)           [(None, 32, 32, 3)]  0           []                               \n",
      "                                                                                                  \n",
      " rescaling_5 (Rescaling)        (None, 32, 32, 3)    0           ['input_6[0][0]']                \n",
      "                                                                                                  \n",
      " conv2d_285 (Conv2D)            (None, 26, 26, 16)   2368        ['rescaling_5[0][0]']            \n",
      "                                                                                                  \n",
      " batch_normalization_275 (Batch  (None, 26, 26, 16)  64          ['conv2d_285[0][0]']             \n",
      " Normalization)                                                                                   \n",
      "                                                                                                  \n",
      " conv2d_286 (Conv2D)            (None, 26, 26, 16)   2320        ['batch_normalization_275[0][0]']\n",
      "                                                                                                  \n",
      " batch_normalization_276 (Batch  (None, 26, 26, 16)  64          ['conv2d_286[0][0]']             \n",
      " Normalization)                                                                                   \n",
      "                                                                                                  \n",
      " activation_270 (Activation)    (None, 26, 26, 16)   0           ['batch_normalization_276[0][0]']\n",
      "                                                                                                  \n",
      " conv2d_287 (Conv2D)            (None, 26, 26, 16)   2320        ['activation_270[0][0]']         \n",
      "                                                                                                  \n",
      " batch_normalization_277 (Batch  (None, 26, 26, 16)  64          ['conv2d_287[0][0]']             \n",
      " Normalization)                                                                                   \n",
      "                                                                                                  \n",
      " add_135 (Add)                  (None, 26, 26, 16)   0           ['batch_normalization_277[0][0]',\n",
      "                                                                  'batch_normalization_275[0][0]']\n",
      "                                                                                                  \n",
      " activation_271 (Activation)    (None, 26, 26, 16)   0           ['add_135[0][0]']                \n",
      "                                                                                                  \n",
      " conv2d_288 (Conv2D)            (None, 26, 26, 16)   2320        ['activation_271[0][0]']         \n",
      "                                                                                                  \n",
      " batch_normalization_278 (Batch  (None, 26, 26, 16)  64          ['conv2d_288[0][0]']             \n",
      " Normalization)                                                                                   \n",
      "                                                                                                  \n",
      " activation_272 (Activation)    (None, 26, 26, 16)   0           ['batch_normalization_278[0][0]']\n",
      "                                                                                                  \n",
      " conv2d_289 (Conv2D)            (None, 26, 26, 16)   2320        ['activation_272[0][0]']         \n",
      "                                                                                                  \n",
      " batch_normalization_279 (Batch  (None, 26, 26, 16)  64          ['conv2d_289[0][0]']             \n",
      " Normalization)                                                                                   \n",
      "                                                                                                  \n",
      " add_136 (Add)                  (None, 26, 26, 16)   0           ['batch_normalization_279[0][0]',\n",
      "                                                                  'activation_271[0][0]']         \n",
      "                                                                                                  \n",
      " activation_273 (Activation)    (None, 26, 26, 16)   0           ['add_136[0][0]']                \n",
      "                                                                                                  \n",
      " conv2d_290 (Conv2D)            (None, 26, 26, 16)   2320        ['activation_273[0][0]']         \n",
      "                                                                                                  \n",
      " batch_normalization_280 (Batch  (None, 26, 26, 16)  64          ['conv2d_290[0][0]']             \n",
      " Normalization)                                                                                   \n",
      "                                                                                                  \n",
      " activation_274 (Activation)    (None, 26, 26, 16)   0           ['batch_normalization_280[0][0]']\n",
      "                                                                                                  \n",
      " conv2d_291 (Conv2D)            (None, 26, 26, 16)   2320        ['activation_274[0][0]']         \n",
      "                                                                                                  \n",
      " batch_normalization_281 (Batch  (None, 26, 26, 16)  64          ['conv2d_291[0][0]']             \n",
      " Normalization)                                                                                   \n",
      "                                                                                                  \n",
      " add_137 (Add)                  (None, 26, 26, 16)   0           ['batch_normalization_281[0][0]',\n",
      "                                                                  'activation_273[0][0]']         \n",
      "                                                                                                  \n",
      " activation_275 (Activation)    (None, 26, 26, 16)   0           ['add_137[0][0]']                \n",
      "                                                                                                  \n",
      " conv2d_292 (Conv2D)            (None, 26, 26, 16)   2320        ['activation_275[0][0]']         \n",
      "                                                                                                  \n",
      " batch_normalization_282 (Batch  (None, 26, 26, 16)  64          ['conv2d_292[0][0]']             \n",
      " Normalization)                                                                                   \n",
      "                                                                                                  \n",
      " activation_276 (Activation)    (None, 26, 26, 16)   0           ['batch_normalization_282[0][0]']\n",
      "                                                                                                  \n",
      " conv2d_293 (Conv2D)            (None, 26, 26, 16)   2320        ['activation_276[0][0]']         \n",
      "                                                                                                  \n",
      " batch_normalization_283 (Batch  (None, 26, 26, 16)  64          ['conv2d_293[0][0]']             \n",
      " Normalization)                                                                                   \n",
      "                                                                                                  \n",
      " add_138 (Add)                  (None, 26, 26, 16)   0           ['batch_normalization_283[0][0]',\n",
      "                                                                  'activation_275[0][0]']         \n",
      "                                                                                                  \n",
      " activation_277 (Activation)    (None, 26, 26, 16)   0           ['add_138[0][0]']                \n",
      "                                                                                                  \n",
      " conv2d_294 (Conv2D)            (None, 26, 26, 16)   2320        ['activation_277[0][0]']         \n",
      "                                                                                                  \n",
      " batch_normalization_284 (Batch  (None, 26, 26, 16)  64          ['conv2d_294[0][0]']             \n"
     ]
    },
    {
     "name": "stdout",
     "output_type": "stream",
     "text": [
      " Normalization)                                                                                   \n",
      "                                                                                                  \n",
      " activation_278 (Activation)    (None, 26, 26, 16)   0           ['batch_normalization_284[0][0]']\n",
      "                                                                                                  \n",
      " conv2d_295 (Conv2D)            (None, 26, 26, 16)   2320        ['activation_278[0][0]']         \n",
      "                                                                                                  \n",
      " batch_normalization_285 (Batch  (None, 26, 26, 16)  64          ['conv2d_295[0][0]']             \n",
      " Normalization)                                                                                   \n",
      "                                                                                                  \n",
      " add_139 (Add)                  (None, 26, 26, 16)   0           ['batch_normalization_285[0][0]',\n",
      "                                                                  'activation_277[0][0]']         \n",
      "                                                                                                  \n",
      " activation_279 (Activation)    (None, 26, 26, 16)   0           ['add_139[0][0]']                \n",
      "                                                                                                  \n",
      " conv2d_296 (Conv2D)            (None, 26, 26, 16)   2320        ['activation_279[0][0]']         \n",
      "                                                                                                  \n",
      " batch_normalization_286 (Batch  (None, 26, 26, 16)  64          ['conv2d_296[0][0]']             \n",
      " Normalization)                                                                                   \n",
      "                                                                                                  \n",
      " activation_280 (Activation)    (None, 26, 26, 16)   0           ['batch_normalization_286[0][0]']\n",
      "                                                                                                  \n",
      " conv2d_297 (Conv2D)            (None, 26, 26, 16)   2320        ['activation_280[0][0]']         \n",
      "                                                                                                  \n",
      " batch_normalization_287 (Batch  (None, 26, 26, 16)  64          ['conv2d_297[0][0]']             \n",
      " Normalization)                                                                                   \n",
      "                                                                                                  \n",
      " add_140 (Add)                  (None, 26, 26, 16)   0           ['batch_normalization_287[0][0]',\n",
      "                                                                  'activation_279[0][0]']         \n",
      "                                                                                                  \n",
      " activation_281 (Activation)    (None, 26, 26, 16)   0           ['add_140[0][0]']                \n",
      "                                                                                                  \n",
      " conv2d_298 (Conv2D)            (None, 26, 26, 16)   2320        ['activation_281[0][0]']         \n",
      "                                                                                                  \n",
      " batch_normalization_288 (Batch  (None, 26, 26, 16)  64          ['conv2d_298[0][0]']             \n",
      " Normalization)                                                                                   \n",
      "                                                                                                  \n",
      " activation_282 (Activation)    (None, 26, 26, 16)   0           ['batch_normalization_288[0][0]']\n",
      "                                                                                                  \n",
      " conv2d_299 (Conv2D)            (None, 26, 26, 16)   2320        ['activation_282[0][0]']         \n",
      "                                                                                                  \n",
      " batch_normalization_289 (Batch  (None, 26, 26, 16)  64          ['conv2d_299[0][0]']             \n",
      " Normalization)                                                                                   \n",
      "                                                                                                  \n",
      " add_141 (Add)                  (None, 26, 26, 16)   0           ['batch_normalization_289[0][0]',\n",
      "                                                                  'activation_281[0][0]']         \n",
      "                                                                                                  \n",
      " activation_283 (Activation)    (None, 26, 26, 16)   0           ['add_141[0][0]']                \n",
      "                                                                                                  \n",
      " conv2d_300 (Conv2D)            (None, 26, 26, 16)   2320        ['activation_283[0][0]']         \n",
      "                                                                                                  \n",
      " batch_normalization_290 (Batch  (None, 26, 26, 16)  64          ['conv2d_300[0][0]']             \n",
      " Normalization)                                                                                   \n",
      "                                                                                                  \n",
      " activation_284 (Activation)    (None, 26, 26, 16)   0           ['batch_normalization_290[0][0]']\n",
      "                                                                                                  \n",
      " conv2d_301 (Conv2D)            (None, 26, 26, 16)   2320        ['activation_284[0][0]']         \n",
      "                                                                                                  \n",
      " batch_normalization_291 (Batch  (None, 26, 26, 16)  64          ['conv2d_301[0][0]']             \n",
      " Normalization)                                                                                   \n",
      "                                                                                                  \n",
      " add_142 (Add)                  (None, 26, 26, 16)   0           ['batch_normalization_291[0][0]',\n",
      "                                                                  'activation_283[0][0]']         \n",
      "                                                                                                  \n",
      " activation_285 (Activation)    (None, 26, 26, 16)   0           ['add_142[0][0]']                \n",
      "                                                                                                  \n",
      " conv2d_302 (Conv2D)            (None, 26, 26, 16)   2320        ['activation_285[0][0]']         \n",
      "                                                                                                  \n",
      " batch_normalization_292 (Batch  (None, 26, 26, 16)  64          ['conv2d_302[0][0]']             \n",
      " Normalization)                                                                                   \n",
      "                                                                                                  \n",
      " activation_286 (Activation)    (None, 26, 26, 16)   0           ['batch_normalization_292[0][0]']\n",
      "                                                                                                  \n",
      " conv2d_303 (Conv2D)            (None, 26, 26, 16)   2320        ['activation_286[0][0]']         \n",
      "                                                                                                  \n",
      " batch_normalization_293 (Batch  (None, 26, 26, 16)  64          ['conv2d_303[0][0]']             \n",
      " Normalization)                                                                                   \n",
      "                                                                                                  \n",
      " add_143 (Add)                  (None, 26, 26, 16)   0           ['batch_normalization_293[0][0]',\n",
      "                                                                  'activation_285[0][0]']         \n",
      "                                                                                                  \n",
      " activation_287 (Activation)    (None, 26, 26, 16)   0           ['add_143[0][0]']                \n",
      "                                                                                                  \n",
      " conv2d_305 (Conv2D)            (None, 13, 13, 32)   4640        ['activation_287[0][0]']         \n"
     ]
    },
    {
     "name": "stdout",
     "output_type": "stream",
     "text": [
      "                                                                                                  \n",
      " batch_normalization_294 (Batch  (None, 13, 13, 32)  128         ['conv2d_305[0][0]']             \n",
      " Normalization)                                                                                   \n",
      "                                                                                                  \n",
      " activation_288 (Activation)    (None, 13, 13, 32)   0           ['batch_normalization_294[0][0]']\n",
      "                                                                                                  \n",
      " conv2d_306 (Conv2D)            (None, 13, 13, 32)   9248        ['activation_288[0][0]']         \n",
      "                                                                                                  \n",
      " batch_normalization_295 (Batch  (None, 13, 13, 32)  128         ['conv2d_306[0][0]']             \n",
      " Normalization)                                                                                   \n",
      "                                                                                                  \n",
      " conv2d_304 (Conv2D)            (None, 13, 13, 32)   544         ['activation_287[0][0]']         \n",
      "                                                                                                  \n",
      " add_144 (Add)                  (None, 13, 13, 32)   0           ['batch_normalization_295[0][0]',\n",
      "                                                                  'conv2d_304[0][0]']             \n",
      "                                                                                                  \n",
      " activation_289 (Activation)    (None, 13, 13, 32)   0           ['add_144[0][0]']                \n",
      "                                                                                                  \n",
      " conv2d_307 (Conv2D)            (None, 13, 13, 32)   9248        ['activation_289[0][0]']         \n",
      "                                                                                                  \n",
      " batch_normalization_296 (Batch  (None, 13, 13, 32)  128         ['conv2d_307[0][0]']             \n",
      " Normalization)                                                                                   \n",
      "                                                                                                  \n",
      " activation_290 (Activation)    (None, 13, 13, 32)   0           ['batch_normalization_296[0][0]']\n",
      "                                                                                                  \n",
      " conv2d_308 (Conv2D)            (None, 13, 13, 32)   9248        ['activation_290[0][0]']         \n",
      "                                                                                                  \n",
      " batch_normalization_297 (Batch  (None, 13, 13, 32)  128         ['conv2d_308[0][0]']             \n",
      " Normalization)                                                                                   \n",
      "                                                                                                  \n",
      " add_145 (Add)                  (None, 13, 13, 32)   0           ['batch_normalization_297[0][0]',\n",
      "                                                                  'activation_289[0][0]']         \n",
      "                                                                                                  \n",
      " activation_291 (Activation)    (None, 13, 13, 32)   0           ['add_145[0][0]']                \n",
      "                                                                                                  \n",
      " conv2d_309 (Conv2D)            (None, 13, 13, 32)   9248        ['activation_291[0][0]']         \n",
      "                                                                                                  \n",
      " batch_normalization_298 (Batch  (None, 13, 13, 32)  128         ['conv2d_309[0][0]']             \n",
      " Normalization)                                                                                   \n",
      "                                                                                                  \n",
      " activation_292 (Activation)    (None, 13, 13, 32)   0           ['batch_normalization_298[0][0]']\n",
      "                                                                                                  \n",
      " conv2d_310 (Conv2D)            (None, 13, 13, 32)   9248        ['activation_292[0][0]']         \n",
      "                                                                                                  \n",
      " batch_normalization_299 (Batch  (None, 13, 13, 32)  128         ['conv2d_310[0][0]']             \n",
      " Normalization)                                                                                   \n",
      "                                                                                                  \n",
      " add_146 (Add)                  (None, 13, 13, 32)   0           ['batch_normalization_299[0][0]',\n",
      "                                                                  'activation_291[0][0]']         \n",
      "                                                                                                  \n",
      " activation_293 (Activation)    (None, 13, 13, 32)   0           ['add_146[0][0]']                \n",
      "                                                                                                  \n",
      " conv2d_311 (Conv2D)            (None, 13, 13, 32)   9248        ['activation_293[0][0]']         \n",
      "                                                                                                  \n",
      " batch_normalization_300 (Batch  (None, 13, 13, 32)  128         ['conv2d_311[0][0]']             \n",
      " Normalization)                                                                                   \n",
      "                                                                                                  \n",
      " activation_294 (Activation)    (None, 13, 13, 32)   0           ['batch_normalization_300[0][0]']\n",
      "                                                                                                  \n",
      " conv2d_312 (Conv2D)            (None, 13, 13, 32)   9248        ['activation_294[0][0]']         \n",
      "                                                                                                  \n",
      " batch_normalization_301 (Batch  (None, 13, 13, 32)  128         ['conv2d_312[0][0]']             \n",
      " Normalization)                                                                                   \n",
      "                                                                                                  \n",
      " add_147 (Add)                  (None, 13, 13, 32)   0           ['batch_normalization_301[0][0]',\n",
      "                                                                  'activation_293[0][0]']         \n",
      "                                                                                                  \n",
      " activation_295 (Activation)    (None, 13, 13, 32)   0           ['add_147[0][0]']                \n",
      "                                                                                                  \n",
      " conv2d_313 (Conv2D)            (None, 13, 13, 32)   9248        ['activation_295[0][0]']         \n",
      "                                                                                                  \n",
      " batch_normalization_302 (Batch  (None, 13, 13, 32)  128         ['conv2d_313[0][0]']             \n",
      " Normalization)                                                                                   \n",
      "                                                                                                  \n",
      " activation_296 (Activation)    (None, 13, 13, 32)   0           ['batch_normalization_302[0][0]']\n",
      "                                                                                                  \n",
      " conv2d_314 (Conv2D)            (None, 13, 13, 32)   9248        ['activation_296[0][0]']         \n",
      "                                                                                                  \n",
      " batch_normalization_303 (Batch  (None, 13, 13, 32)  128         ['conv2d_314[0][0]']             \n",
      " Normalization)                                                                                   \n",
      "                                                                                                  \n",
      " add_148 (Add)                  (None, 13, 13, 32)   0           ['batch_normalization_303[0][0]',\n",
      "                                                                  'activation_295[0][0]']         \n"
     ]
    },
    {
     "name": "stdout",
     "output_type": "stream",
     "text": [
      "                                                                                                  \n",
      " activation_297 (Activation)    (None, 13, 13, 32)   0           ['add_148[0][0]']                \n",
      "                                                                                                  \n",
      " conv2d_315 (Conv2D)            (None, 13, 13, 32)   9248        ['activation_297[0][0]']         \n",
      "                                                                                                  \n",
      " batch_normalization_304 (Batch  (None, 13, 13, 32)  128         ['conv2d_315[0][0]']             \n",
      " Normalization)                                                                                   \n",
      "                                                                                                  \n",
      " activation_298 (Activation)    (None, 13, 13, 32)   0           ['batch_normalization_304[0][0]']\n",
      "                                                                                                  \n",
      " conv2d_316 (Conv2D)            (None, 13, 13, 32)   9248        ['activation_298[0][0]']         \n",
      "                                                                                                  \n",
      " batch_normalization_305 (Batch  (None, 13, 13, 32)  128         ['conv2d_316[0][0]']             \n",
      " Normalization)                                                                                   \n",
      "                                                                                                  \n",
      " add_149 (Add)                  (None, 13, 13, 32)   0           ['batch_normalization_305[0][0]',\n",
      "                                                                  'activation_297[0][0]']         \n",
      "                                                                                                  \n",
      " activation_299 (Activation)    (None, 13, 13, 32)   0           ['add_149[0][0]']                \n",
      "                                                                                                  \n",
      " conv2d_317 (Conv2D)            (None, 13, 13, 32)   9248        ['activation_299[0][0]']         \n",
      "                                                                                                  \n",
      " batch_normalization_306 (Batch  (None, 13, 13, 32)  128         ['conv2d_317[0][0]']             \n",
      " Normalization)                                                                                   \n",
      "                                                                                                  \n",
      " activation_300 (Activation)    (None, 13, 13, 32)   0           ['batch_normalization_306[0][0]']\n",
      "                                                                                                  \n",
      " conv2d_318 (Conv2D)            (None, 13, 13, 32)   9248        ['activation_300[0][0]']         \n",
      "                                                                                                  \n",
      " batch_normalization_307 (Batch  (None, 13, 13, 32)  128         ['conv2d_318[0][0]']             \n",
      " Normalization)                                                                                   \n",
      "                                                                                                  \n",
      " add_150 (Add)                  (None, 13, 13, 32)   0           ['batch_normalization_307[0][0]',\n",
      "                                                                  'activation_299[0][0]']         \n",
      "                                                                                                  \n",
      " activation_301 (Activation)    (None, 13, 13, 32)   0           ['add_150[0][0]']                \n",
      "                                                                                                  \n",
      " conv2d_319 (Conv2D)            (None, 13, 13, 32)   9248        ['activation_301[0][0]']         \n",
      "                                                                                                  \n",
      " batch_normalization_308 (Batch  (None, 13, 13, 32)  128         ['conv2d_319[0][0]']             \n",
      " Normalization)                                                                                   \n",
      "                                                                                                  \n",
      " activation_302 (Activation)    (None, 13, 13, 32)   0           ['batch_normalization_308[0][0]']\n",
      "                                                                                                  \n",
      " conv2d_320 (Conv2D)            (None, 13, 13, 32)   9248        ['activation_302[0][0]']         \n",
      "                                                                                                  \n",
      " batch_normalization_309 (Batch  (None, 13, 13, 32)  128         ['conv2d_320[0][0]']             \n",
      " Normalization)                                                                                   \n",
      "                                                                                                  \n",
      " add_151 (Add)                  (None, 13, 13, 32)   0           ['batch_normalization_309[0][0]',\n",
      "                                                                  'activation_301[0][0]']         \n",
      "                                                                                                  \n",
      " activation_303 (Activation)    (None, 13, 13, 32)   0           ['add_151[0][0]']                \n",
      "                                                                                                  \n",
      " conv2d_321 (Conv2D)            (None, 13, 13, 32)   9248        ['activation_303[0][0]']         \n",
      "                                                                                                  \n",
      " batch_normalization_310 (Batch  (None, 13, 13, 32)  128         ['conv2d_321[0][0]']             \n",
      " Normalization)                                                                                   \n",
      "                                                                                                  \n",
      " activation_304 (Activation)    (None, 13, 13, 32)   0           ['batch_normalization_310[0][0]']\n",
      "                                                                                                  \n",
      " conv2d_322 (Conv2D)            (None, 13, 13, 32)   9248        ['activation_304[0][0]']         \n",
      "                                                                                                  \n",
      " batch_normalization_311 (Batch  (None, 13, 13, 32)  128         ['conv2d_322[0][0]']             \n",
      " Normalization)                                                                                   \n",
      "                                                                                                  \n",
      " add_152 (Add)                  (None, 13, 13, 32)   0           ['batch_normalization_311[0][0]',\n",
      "                                                                  'activation_303[0][0]']         \n",
      "                                                                                                  \n",
      " activation_305 (Activation)    (None, 13, 13, 32)   0           ['add_152[0][0]']                \n",
      "                                                                                                  \n",
      " conv2d_324 (Conv2D)            (None, 7, 7, 64)     18496       ['activation_305[0][0]']         \n",
      "                                                                                                  \n",
      " batch_normalization_312 (Batch  (None, 7, 7, 64)    256         ['conv2d_324[0][0]']             \n",
      " Normalization)                                                                                   \n",
      "                                                                                                  \n",
      " activation_306 (Activation)    (None, 7, 7, 64)     0           ['batch_normalization_312[0][0]']\n",
      "                                                                                                  \n",
      " conv2d_325 (Conv2D)            (None, 7, 7, 64)     36928       ['activation_306[0][0]']         \n",
      "                                                                                                  \n",
      " batch_normalization_313 (Batch  (None, 7, 7, 64)    256         ['conv2d_325[0][0]']             \n",
      " Normalization)                                                                                   \n",
      "                                                                                                  \n"
     ]
    },
    {
     "name": "stdout",
     "output_type": "stream",
     "text": [
      " conv2d_323 (Conv2D)            (None, 7, 7, 64)     2112        ['activation_305[0][0]']         \n",
      "                                                                                                  \n",
      " add_153 (Add)                  (None, 7, 7, 64)     0           ['batch_normalization_313[0][0]',\n",
      "                                                                  'conv2d_323[0][0]']             \n",
      "                                                                                                  \n",
      " activation_307 (Activation)    (None, 7, 7, 64)     0           ['add_153[0][0]']                \n",
      "                                                                                                  \n",
      " conv2d_326 (Conv2D)            (None, 7, 7, 64)     36928       ['activation_307[0][0]']         \n",
      "                                                                                                  \n",
      " batch_normalization_314 (Batch  (None, 7, 7, 64)    256         ['conv2d_326[0][0]']             \n",
      " Normalization)                                                                                   \n",
      "                                                                                                  \n",
      " activation_308 (Activation)    (None, 7, 7, 64)     0           ['batch_normalization_314[0][0]']\n",
      "                                                                                                  \n",
      " conv2d_327 (Conv2D)            (None, 7, 7, 64)     36928       ['activation_308[0][0]']         \n",
      "                                                                                                  \n",
      " batch_normalization_315 (Batch  (None, 7, 7, 64)    256         ['conv2d_327[0][0]']             \n",
      " Normalization)                                                                                   \n",
      "                                                                                                  \n",
      " add_154 (Add)                  (None, 7, 7, 64)     0           ['batch_normalization_315[0][0]',\n",
      "                                                                  'activation_307[0][0]']         \n",
      "                                                                                                  \n",
      " activation_309 (Activation)    (None, 7, 7, 64)     0           ['add_154[0][0]']                \n",
      "                                                                                                  \n",
      " conv2d_328 (Conv2D)            (None, 7, 7, 64)     36928       ['activation_309[0][0]']         \n",
      "                                                                                                  \n",
      " batch_normalization_316 (Batch  (None, 7, 7, 64)    256         ['conv2d_328[0][0]']             \n",
      " Normalization)                                                                                   \n",
      "                                                                                                  \n",
      " activation_310 (Activation)    (None, 7, 7, 64)     0           ['batch_normalization_316[0][0]']\n",
      "                                                                                                  \n",
      " conv2d_329 (Conv2D)            (None, 7, 7, 64)     36928       ['activation_310[0][0]']         \n",
      "                                                                                                  \n",
      " batch_normalization_317 (Batch  (None, 7, 7, 64)    256         ['conv2d_329[0][0]']             \n",
      " Normalization)                                                                                   \n",
      "                                                                                                  \n",
      " add_155 (Add)                  (None, 7, 7, 64)     0           ['batch_normalization_317[0][0]',\n",
      "                                                                  'activation_309[0][0]']         \n",
      "                                                                                                  \n",
      " activation_311 (Activation)    (None, 7, 7, 64)     0           ['add_155[0][0]']                \n",
      "                                                                                                  \n",
      " conv2d_330 (Conv2D)            (None, 7, 7, 64)     36928       ['activation_311[0][0]']         \n",
      "                                                                                                  \n",
      " batch_normalization_318 (Batch  (None, 7, 7, 64)    256         ['conv2d_330[0][0]']             \n",
      " Normalization)                                                                                   \n",
      "                                                                                                  \n",
      " activation_312 (Activation)    (None, 7, 7, 64)     0           ['batch_normalization_318[0][0]']\n",
      "                                                                                                  \n",
      " conv2d_331 (Conv2D)            (None, 7, 7, 64)     36928       ['activation_312[0][0]']         \n",
      "                                                                                                  \n",
      " batch_normalization_319 (Batch  (None, 7, 7, 64)    256         ['conv2d_331[0][0]']             \n",
      " Normalization)                                                                                   \n",
      "                                                                                                  \n",
      " add_156 (Add)                  (None, 7, 7, 64)     0           ['batch_normalization_319[0][0]',\n",
      "                                                                  'activation_311[0][0]']         \n",
      "                                                                                                  \n",
      " activation_313 (Activation)    (None, 7, 7, 64)     0           ['add_156[0][0]']                \n",
      "                                                                                                  \n",
      " conv2d_332 (Conv2D)            (None, 7, 7, 64)     36928       ['activation_313[0][0]']         \n",
      "                                                                                                  \n",
      " batch_normalization_320 (Batch  (None, 7, 7, 64)    256         ['conv2d_332[0][0]']             \n",
      " Normalization)                                                                                   \n",
      "                                                                                                  \n",
      " activation_314 (Activation)    (None, 7, 7, 64)     0           ['batch_normalization_320[0][0]']\n",
      "                                                                                                  \n",
      " conv2d_333 (Conv2D)            (None, 7, 7, 64)     36928       ['activation_314[0][0]']         \n",
      "                                                                                                  \n",
      " batch_normalization_321 (Batch  (None, 7, 7, 64)    256         ['conv2d_333[0][0]']             \n",
      " Normalization)                                                                                   \n",
      "                                                                                                  \n",
      " add_157 (Add)                  (None, 7, 7, 64)     0           ['batch_normalization_321[0][0]',\n",
      "                                                                  'activation_313[0][0]']         \n",
      "                                                                                                  \n",
      " activation_315 (Activation)    (None, 7, 7, 64)     0           ['add_157[0][0]']                \n",
      "                                                                                                  \n",
      " conv2d_334 (Conv2D)            (None, 7, 7, 64)     36928       ['activation_315[0][0]']         \n",
      "                                                                                                  \n",
      " batch_normalization_322 (Batch  (None, 7, 7, 64)    256         ['conv2d_334[0][0]']             \n",
      " Normalization)                                                                                   \n",
      "                                                                                                  \n",
      " activation_316 (Activation)    (None, 7, 7, 64)     0           ['batch_normalization_322[0][0]']\n",
      "                                                                                                  \n",
      " conv2d_335 (Conv2D)            (None, 7, 7, 64)     36928       ['activation_316[0][0]']         \n"
     ]
    },
    {
     "name": "stdout",
     "output_type": "stream",
     "text": [
      "                                                                                                  \n",
      " batch_normalization_323 (Batch  (None, 7, 7, 64)    256         ['conv2d_335[0][0]']             \n",
      " Normalization)                                                                                   \n",
      "                                                                                                  \n",
      " add_158 (Add)                  (None, 7, 7, 64)     0           ['batch_normalization_323[0][0]',\n",
      "                                                                  'activation_315[0][0]']         \n",
      "                                                                                                  \n",
      " activation_317 (Activation)    (None, 7, 7, 64)     0           ['add_158[0][0]']                \n",
      "                                                                                                  \n",
      " conv2d_336 (Conv2D)            (None, 7, 7, 64)     36928       ['activation_317[0][0]']         \n",
      "                                                                                                  \n",
      " batch_normalization_324 (Batch  (None, 7, 7, 64)    256         ['conv2d_336[0][0]']             \n",
      " Normalization)                                                                                   \n",
      "                                                                                                  \n",
      " activation_318 (Activation)    (None, 7, 7, 64)     0           ['batch_normalization_324[0][0]']\n",
      "                                                                                                  \n",
      " conv2d_337 (Conv2D)            (None, 7, 7, 64)     36928       ['activation_318[0][0]']         \n",
      "                                                                                                  \n",
      " batch_normalization_325 (Batch  (None, 7, 7, 64)    256         ['conv2d_337[0][0]']             \n",
      " Normalization)                                                                                   \n",
      "                                                                                                  \n",
      " add_159 (Add)                  (None, 7, 7, 64)     0           ['batch_normalization_325[0][0]',\n",
      "                                                                  'activation_317[0][0]']         \n",
      "                                                                                                  \n",
      " activation_319 (Activation)    (None, 7, 7, 64)     0           ['add_159[0][0]']                \n",
      "                                                                                                  \n",
      " conv2d_338 (Conv2D)            (None, 7, 7, 64)     36928       ['activation_319[0][0]']         \n",
      "                                                                                                  \n",
      " batch_normalization_326 (Batch  (None, 7, 7, 64)    256         ['conv2d_338[0][0]']             \n",
      " Normalization)                                                                                   \n",
      "                                                                                                  \n",
      " activation_320 (Activation)    (None, 7, 7, 64)     0           ['batch_normalization_326[0][0]']\n",
      "                                                                                                  \n",
      " conv2d_339 (Conv2D)            (None, 7, 7, 64)     36928       ['activation_320[0][0]']         \n",
      "                                                                                                  \n",
      " batch_normalization_327 (Batch  (None, 7, 7, 64)    256         ['conv2d_339[0][0]']             \n",
      " Normalization)                                                                                   \n",
      "                                                                                                  \n",
      " add_160 (Add)                  (None, 7, 7, 64)     0           ['batch_normalization_327[0][0]',\n",
      "                                                                  'activation_319[0][0]']         \n",
      "                                                                                                  \n",
      " activation_321 (Activation)    (None, 7, 7, 64)     0           ['add_160[0][0]']                \n",
      "                                                                                                  \n",
      " conv2d_340 (Conv2D)            (None, 7, 7, 64)     36928       ['activation_321[0][0]']         \n",
      "                                                                                                  \n",
      " batch_normalization_328 (Batch  (None, 7, 7, 64)    256         ['conv2d_340[0][0]']             \n",
      " Normalization)                                                                                   \n",
      "                                                                                                  \n",
      " activation_322 (Activation)    (None, 7, 7, 64)     0           ['batch_normalization_328[0][0]']\n",
      "                                                                                                  \n",
      " conv2d_341 (Conv2D)            (None, 7, 7, 64)     36928       ['activation_322[0][0]']         \n",
      "                                                                                                  \n",
      " batch_normalization_329 (Batch  (None, 7, 7, 64)    256         ['conv2d_341[0][0]']             \n",
      " Normalization)                                                                                   \n",
      "                                                                                                  \n",
      " add_161 (Add)                  (None, 7, 7, 64)     0           ['batch_normalization_329[0][0]',\n",
      "                                                                  'activation_321[0][0]']         \n",
      "                                                                                                  \n",
      " activation_323 (Activation)    (None, 7, 7, 64)     0           ['add_161[0][0]']                \n",
      "                                                                                                  \n",
      " max_pooling2d_5 (MaxPooling2D)  (None, 3, 3, 64)    0           ['activation_323[0][0]']         \n",
      "                                                                                                  \n",
      " flatten_5 (Flatten)            (None, 576)          0           ['max_pooling2d_5[0][0]']        \n",
      "                                                                                                  \n",
      " dense_5 (Dense)                (None, 10)           5770        ['flatten_5[0][0]']              \n",
      "                                                                                                  \n",
      "==================================================================================================\n",
      "Total params: 868,810\n",
      "Trainable params: 864,746\n",
      "Non-trainable params: 4,064\n",
      "__________________________________________________________________________________________________\n"
     ]
    }
   ],
   "source": [
    "from tensorflow.keras.regularizers import l2\n",
    "    \n",
    "\n",
    "# Resnet block:\n",
    "def resnet_block(input, output_filters, strides=1):\n",
    "    input_filters = input.shape[-1]\n",
    "    if input_filters != output_filters:\n",
    "        new_add = tf.keras.layers.Conv2D(output_filters, (1, 1), activation='relu', strides=strides, kernel_regularizer=tf.keras.regularizers.l2(0.001))(input)\n",
    "    x = tf.keras.layers.Conv2D(output_filters, (3,3), padding=\"same\", strides=strides, kernel_regularizer=tf.keras.regularizers.l2(0.001))(input)\n",
    "    x = tf.keras.layers.BatchNormalization()(x)\n",
    "    x = tf.keras.layers.Activation('relu')(x)\n",
    "    x = tf.keras.layers.Conv2D(output_filters, (3,3), padding=\"same\", kernel_regularizer=tf.keras.regularizers.l2(0.001))(x)\n",
    "    x = tf.keras.layers.BatchNormalization()(x)\n",
    "\n",
    "    if input_filters != output_filters:\n",
    "        x = tf.keras.layers.Add()([x, new_add])\n",
    "    else:\n",
    "        x = tf.keras.layers.Add()([x, input])\n",
    "    x = tf.keras.layers.Activation('relu')(x)\n",
    "    return x\n",
    "\n",
    "input = tf.keras.Input(shape=(32, 32, 3))\n",
    "normalized_input = tf.keras.layers.experimental.preprocessing.Rescaling(1./255)(input)\n",
    "\n",
    "x = tf.keras.layers.Conv2D(16, (7, 7), activation='relu', kernel_regularizer=tf.keras.regularizers.l2(0.001))(normalized_input)\n",
    "x = tf.keras.layers.BatchNormalization()(x)\n",
    "\n",
    "# resnet block\n",
    "x = resnet_block(x, 16)\n",
    "x = resnet_block(x, 16)\n",
    "x = resnet_block(x, 16)\n",
    "x = resnet_block(x, 16)\n",
    "x = resnet_block(x, 16)\n",
    "x = resnet_block(x, 16)\n",
    "x = resnet_block(x, 16)\n",
    "x = resnet_block(x, 16)\n",
    "x = resnet_block(x, 16)\n",
    "x = resnet_block(x, 32, 2)\n",
    "x = resnet_block(x, 32)\n",
    "x = resnet_block(x, 32)\n",
    "x = resnet_block(x, 32)\n",
    "x = resnet_block(x, 32)\n",
    "x = resnet_block(x, 32)\n",
    "x = resnet_block(x, 32)\n",
    "x = resnet_block(x, 32)\n",
    "x = resnet_block(x, 32)\n",
    "x = resnet_block(x, 64, 2)\n",
    "x = resnet_block(x, 64)\n",
    "x = resnet_block(x, 64)\n",
    "x = resnet_block(x, 64)\n",
    "x = resnet_block(x, 64)\n",
    "x = resnet_block(x, 64)\n",
    "x = resnet_block(x, 64)\n",
    "x = resnet_block(x, 64)\n",
    "x = resnet_block(x, 64)\n",
    "\n",
    "x = tf.keras.layers.MaxPooling2D((2, 2))(x)\n",
    "dense = tf.keras.layers.Flatten()(x)\n",
    "output = tf.keras.layers.Dense(10, activation='softmax')(dense)\n",
    "\n",
    "model3 = tf.keras.Model(inputs=input, outputs=output)\n",
    "\n",
    "learning_rate_schedule = tf.keras.optimizers.schedules.ExponentialDecay(\n",
    "  initial_learning_rate=0.01,\n",
    "  decay_rate=0.1,\n",
    "  decay_steps=32000\n",
    ")\n",
    "\n",
    "\n",
    "model3.compile(optimizer=tf.keras.optimizers.Adam(learning_rate=learning_rate_schedule,\n",
    "                                                  ema_momentum=0.9,\n",
    "                                                  use_ema=True),\n",
    "               loss='sparse_categorical_crossentropy',\n",
    "               metrics=['accuracy'])\n",
    "\n",
    "model3.summary()\n"
   ]
  },
  {
   "cell_type": "code",
   "execution_count": 18,
   "metadata": {
    "scrolled": false
   },
   "outputs": [
    {
     "name": "stdout",
     "output_type": "stream",
     "text": [
      "Epoch 1/200\n",
      "375/375 [==============================] - 49s 55ms/step - loss: 2.7726 - accuracy: 0.1865 - val_loss: 2.5208 - val_accuracy: 0.2025\n",
      "Epoch 2/200\n",
      "375/375 [==============================] - 19s 52ms/step - loss: 2.0391 - accuracy: 0.3330 - val_loss: 2.0469 - val_accuracy: 0.3227\n",
      "Epoch 3/200\n",
      "375/375 [==============================] - 19s 52ms/step - loss: 1.7840 - accuracy: 0.4041 - val_loss: 2.1435 - val_accuracy: 0.3478\n",
      "Epoch 4/200\n",
      "375/375 [==============================] - 19s 52ms/step - loss: 1.6420 - accuracy: 0.4510 - val_loss: 1.7697 - val_accuracy: 0.4221\n",
      "Epoch 5/200\n",
      "375/375 [==============================] - 19s 52ms/step - loss: 1.5618 - accuracy: 0.4841 - val_loss: 1.7849 - val_accuracy: 0.4420\n",
      "Epoch 6/200\n",
      "375/375 [==============================] - 19s 52ms/step - loss: 1.4878 - accuracy: 0.5152 - val_loss: 1.6680 - val_accuracy: 0.4487\n",
      "Epoch 7/200\n",
      "375/375 [==============================] - 19s 52ms/step - loss: 1.4328 - accuracy: 0.5455 - val_loss: 1.4472 - val_accuracy: 0.5460\n",
      "Epoch 8/200\n",
      "375/375 [==============================] - 19s 52ms/step - loss: 1.3474 - accuracy: 0.5830 - val_loss: 2.1576 - val_accuracy: 0.4629\n",
      "Epoch 9/200\n",
      "375/375 [==============================] - 19s 52ms/step - loss: 1.3277 - accuracy: 0.6050 - val_loss: 1.4330 - val_accuracy: 0.5688\n",
      "Epoch 10/200\n",
      "375/375 [==============================] - 19s 52ms/step - loss: 1.5294 - accuracy: 0.5762 - val_loss: 1.6973 - val_accuracy: 0.5140\n",
      "Epoch 11/200\n",
      "375/375 [==============================] - 19s 51ms/step - loss: 1.2405 - accuracy: 0.6350 - val_loss: 2.3528 - val_accuracy: 0.4014\n",
      "Epoch 12/200\n",
      "375/375 [==============================] - 19s 52ms/step - loss: 1.1903 - accuracy: 0.6524 - val_loss: 1.4255 - val_accuracy: 0.5650\n",
      "Epoch 13/200\n",
      "375/375 [==============================] - 19s 52ms/step - loss: 1.1724 - accuracy: 0.6642 - val_loss: 1.2767 - val_accuracy: 0.6333\n",
      "Epoch 14/200\n",
      "375/375 [==============================] - 19s 52ms/step - loss: 1.1688 - accuracy: 0.6650 - val_loss: 1.1597 - val_accuracy: 0.6778\n",
      "Epoch 15/200\n",
      "375/375 [==============================] - 19s 52ms/step - loss: 1.1257 - accuracy: 0.6777 - val_loss: 1.3139 - val_accuracy: 0.6364\n",
      "Epoch 16/200\n",
      "375/375 [==============================] - 19s 51ms/step - loss: 1.0732 - accuracy: 0.6887 - val_loss: 1.5948 - val_accuracy: 0.5613\n",
      "Epoch 17/200\n",
      "375/375 [==============================] - 19s 51ms/step - loss: 1.4387 - accuracy: 0.6031 - val_loss: 1.4089 - val_accuracy: 0.6019\n",
      "Epoch 18/200\n",
      "375/375 [==============================] - 19s 52ms/step - loss: 1.1104 - accuracy: 0.6876 - val_loss: 1.3486 - val_accuracy: 0.6222\n",
      "Epoch 19/200\n",
      "375/375 [==============================] - 19s 52ms/step - loss: 1.0420 - accuracy: 0.7006 - val_loss: 1.4674 - val_accuracy: 0.5921\n",
      "Epoch 20/200\n",
      "375/375 [==============================] - 19s 52ms/step - loss: 1.0221 - accuracy: 0.7059 - val_loss: 1.1566 - val_accuracy: 0.6600\n",
      "Epoch 21/200\n",
      "375/375 [==============================] - 19s 51ms/step - loss: 1.0124 - accuracy: 0.7072 - val_loss: 1.4523 - val_accuracy: 0.6587\n",
      "Epoch 22/200\n",
      "375/375 [==============================] - 19s 51ms/step - loss: 0.9976 - accuracy: 0.7151 - val_loss: 1.0866 - val_accuracy: 0.6886\n",
      "Epoch 23/200\n",
      "375/375 [==============================] - 19s 52ms/step - loss: 0.9689 - accuracy: 0.7209 - val_loss: 0.9938 - val_accuracy: 0.7101\n",
      "Epoch 24/200\n",
      "375/375 [==============================] - 19s 52ms/step - loss: 0.9607 - accuracy: 0.7233 - val_loss: 1.7037 - val_accuracy: 0.5107\n",
      "Epoch 25/200\n",
      "375/375 [==============================] - 19s 52ms/step - loss: 0.9386 - accuracy: 0.7287 - val_loss: 1.1293 - val_accuracy: 0.6628\n",
      "Epoch 26/200\n",
      "375/375 [==============================] - 19s 51ms/step - loss: 0.9430 - accuracy: 0.7293 - val_loss: 1.2024 - val_accuracy: 0.6438\n",
      "Epoch 27/200\n",
      "375/375 [==============================] - 19s 51ms/step - loss: 0.9171 - accuracy: 0.7367 - val_loss: 1.0307 - val_accuracy: 0.7021\n",
      "Epoch 28/200\n",
      "375/375 [==============================] - 19s 52ms/step - loss: 0.9036 - accuracy: 0.7418 - val_loss: 1.2347 - val_accuracy: 0.6777\n",
      "Epoch 29/200\n",
      "375/375 [==============================] - 19s 51ms/step - loss: 0.8909 - accuracy: 0.7449 - val_loss: 1.1181 - val_accuracy: 0.6737\n",
      "Epoch 30/200\n",
      "375/375 [==============================] - 19s 52ms/step - loss: 0.8794 - accuracy: 0.7495 - val_loss: 1.1299 - val_accuracy: 0.6833\n",
      "Epoch 31/200\n",
      "375/375 [==============================] - 19s 52ms/step - loss: 0.8742 - accuracy: 0.7520 - val_loss: 1.4757 - val_accuracy: 0.6108\n",
      "Epoch 32/200\n",
      "375/375 [==============================] - 19s 52ms/step - loss: 0.8634 - accuracy: 0.7526 - val_loss: 1.0165 - val_accuracy: 0.7092\n",
      "Epoch 33/200\n",
      "375/375 [==============================] - 19s 51ms/step - loss: 0.8544 - accuracy: 0.7562 - val_loss: 0.9679 - val_accuracy: 0.7310\n",
      "Epoch 34/200\n",
      "375/375 [==============================] - 19s 52ms/step - loss: 0.8638 - accuracy: 0.7558 - val_loss: 1.0219 - val_accuracy: 0.7053\n",
      "Epoch 35/200\n",
      "375/375 [==============================] - 19s 52ms/step - loss: 0.8379 - accuracy: 0.7635 - val_loss: 1.0767 - val_accuracy: 0.6858\n",
      "Epoch 36/200\n",
      "375/375 [==============================] - 19s 52ms/step - loss: 0.8336 - accuracy: 0.7606 - val_loss: 0.9991 - val_accuracy: 0.7125\n",
      "Epoch 37/200\n",
      "375/375 [==============================] - 19s 52ms/step - loss: 0.8181 - accuracy: 0.7690 - val_loss: 0.9653 - val_accuracy: 0.7282\n",
      "Epoch 38/200\n",
      "375/375 [==============================] - 19s 51ms/step - loss: 0.8087 - accuracy: 0.7704 - val_loss: 1.0964 - val_accuracy: 0.6939\n",
      "Epoch 39/200\n",
      "375/375 [==============================] - 19s 52ms/step - loss: 0.8001 - accuracy: 0.7734 - val_loss: 0.9394 - val_accuracy: 0.7302\n",
      "Epoch 40/200\n",
      "375/375 [==============================] - 19s 51ms/step - loss: 0.7867 - accuracy: 0.7784 - val_loss: 0.8903 - val_accuracy: 0.7506\n",
      "Epoch 41/200\n",
      "375/375 [==============================] - 19s 51ms/step - loss: 0.7833 - accuracy: 0.7783 - val_loss: 1.0096 - val_accuracy: 0.7192\n",
      "Epoch 42/200\n",
      "375/375 [==============================] - 19s 51ms/step - loss: 0.7753 - accuracy: 0.7803 - val_loss: 1.1579 - val_accuracy: 0.6690\n",
      "Epoch 43/200\n",
      "375/375 [==============================] - 19s 52ms/step - loss: 0.8186 - accuracy: 0.7692 - val_loss: 2.4517 - val_accuracy: 0.5143\n",
      "Epoch 44/200\n",
      "375/375 [==============================] - 19s 51ms/step - loss: 0.8029 - accuracy: 0.7765 - val_loss: 1.0764 - val_accuracy: 0.6985\n",
      "Epoch 45/200\n",
      "375/375 [==============================] - 19s 51ms/step - loss: 0.7627 - accuracy: 0.7860 - val_loss: 0.8413 - val_accuracy: 0.7629\n",
      "Epoch 46/200\n",
      "375/375 [==============================] - 19s 51ms/step - loss: 0.7546 - accuracy: 0.7883 - val_loss: 0.8163 - val_accuracy: 0.7696\n",
      "Epoch 47/200\n",
      "375/375 [==============================] - 19s 52ms/step - loss: 0.7400 - accuracy: 0.7915 - val_loss: 0.8492 - val_accuracy: 0.7636\n",
      "Epoch 48/200\n",
      "375/375 [==============================] - 19s 51ms/step - loss: 0.7362 - accuracy: 0.7941 - val_loss: 0.9000 - val_accuracy: 0.7480\n",
      "Epoch 49/200\n",
      "375/375 [==============================] - 19s 51ms/step - loss: 0.7343 - accuracy: 0.7932 - val_loss: 1.1054 - val_accuracy: 0.7044\n",
      "Epoch 50/200\n",
      "375/375 [==============================] - 19s 51ms/step - loss: 0.7263 - accuracy: 0.7951 - val_loss: 0.9661 - val_accuracy: 0.7251\n",
      "Epoch 51/200\n",
      "375/375 [==============================] - 19s 51ms/step - loss: 0.7130 - accuracy: 0.7991 - val_loss: 0.9339 - val_accuracy: 0.7458\n",
      "Epoch 52/200\n",
      "375/375 [==============================] - 19s 51ms/step - loss: 0.7500 - accuracy: 0.7880 - val_loss: 0.8070 - val_accuracy: 0.7742\n",
      "Epoch 53/200\n",
      "375/375 [==============================] - 19s 51ms/step - loss: 0.7138 - accuracy: 0.7998 - val_loss: 0.7902 - val_accuracy: 0.7771\n",
      "Epoch 54/200\n",
      "375/375 [==============================] - 19s 52ms/step - loss: 0.7012 - accuracy: 0.8021 - val_loss: 0.9686 - val_accuracy: 0.7337\n",
      "Epoch 55/200\n",
      "375/375 [==============================] - 19s 52ms/step - loss: 0.6912 - accuracy: 0.8047 - val_loss: 0.9283 - val_accuracy: 0.7377\n",
      "Epoch 56/200\n",
      "375/375 [==============================] - 19s 52ms/step - loss: 0.6869 - accuracy: 0.8078 - val_loss: 0.8880 - val_accuracy: 0.7557\n",
      "Epoch 57/200\n",
      "375/375 [==============================] - 19s 52ms/step - loss: 0.6810 - accuracy: 0.8073 - val_loss: 0.7744 - val_accuracy: 0.7822\n",
      "Epoch 58/200\n",
      "375/375 [==============================] - 19s 51ms/step - loss: 0.6943 - accuracy: 0.8021 - val_loss: 0.9064 - val_accuracy: 0.7446\n",
      "Epoch 59/200\n",
      "375/375 [==============================] - 19s 51ms/step - loss: 0.6730 - accuracy: 0.8104 - val_loss: 0.7242 - val_accuracy: 0.7945\n",
      "Epoch 60/200\n",
      "375/375 [==============================] - 19s 51ms/step - loss: 0.6614 - accuracy: 0.8144 - val_loss: 1.0635 - val_accuracy: 0.7196\n",
      "Epoch 61/200\n",
      "375/375 [==============================] - 19s 52ms/step - loss: 0.6574 - accuracy: 0.8156 - val_loss: 0.7922 - val_accuracy: 0.7795\n",
      "Epoch 62/200\n",
      "375/375 [==============================] - 19s 51ms/step - loss: 0.6510 - accuracy: 0.8171 - val_loss: 0.7968 - val_accuracy: 0.7700\n",
      "Epoch 63/200\n",
      "375/375 [==============================] - 19s 51ms/step - loss: 0.6486 - accuracy: 0.8181 - val_loss: 0.7727 - val_accuracy: 0.7797\n",
      "Epoch 64/200\n",
      "375/375 [==============================] - 19s 51ms/step - loss: 0.6405 - accuracy: 0.8194 - val_loss: 0.7926 - val_accuracy: 0.7764\n",
      "Epoch 65/200\n",
      "375/375 [==============================] - 19s 51ms/step - loss: 0.6350 - accuracy: 0.8209 - val_loss: 0.6808 - val_accuracy: 0.8052\n",
      "Epoch 66/200\n",
      "375/375 [==============================] - 19s 51ms/step - loss: 0.6306 - accuracy: 0.8229 - val_loss: 0.7854 - val_accuracy: 0.7782\n",
      "Epoch 67/200\n",
      "375/375 [==============================] - 19s 51ms/step - loss: 0.6255 - accuracy: 0.8239 - val_loss: 0.8565 - val_accuracy: 0.7671\n",
      "Epoch 68/200\n",
      "375/375 [==============================] - 19s 51ms/step - loss: 0.6311 - accuracy: 0.8223 - val_loss: 0.7165 - val_accuracy: 0.7965\n",
      "Epoch 69/200\n",
      "375/375 [==============================] - 19s 52ms/step - loss: 0.6133 - accuracy: 0.8261 - val_loss: 0.7519 - val_accuracy: 0.7890\n",
      "Epoch 70/200\n",
      "375/375 [==============================] - 19s 52ms/step - loss: 0.6116 - accuracy: 0.8285 - val_loss: 0.7876 - val_accuracy: 0.7797\n",
      "Epoch 71/200\n",
      "375/375 [==============================] - 19s 51ms/step - loss: 0.6075 - accuracy: 0.8283 - val_loss: 0.6437 - val_accuracy: 0.8167\n",
      "Epoch 72/200\n",
      "375/375 [==============================] - 19s 51ms/step - loss: 0.5968 - accuracy: 0.8319 - val_loss: 0.7372 - val_accuracy: 0.7969\n",
      "Epoch 73/200\n",
      "375/375 [==============================] - 19s 51ms/step - loss: 0.6021 - accuracy: 0.8296 - val_loss: 0.7439 - val_accuracy: 0.7878\n",
      "Epoch 74/200\n",
      "375/375 [==============================] - 19s 51ms/step - loss: 0.5894 - accuracy: 0.8351 - val_loss: 0.7299 - val_accuracy: 0.7957\n",
      "Epoch 75/200\n",
      "375/375 [==============================] - 19s 51ms/step - loss: 0.5893 - accuracy: 0.8343 - val_loss: 0.6888 - val_accuracy: 0.8049\n",
      "Epoch 76/200\n",
      "375/375 [==============================] - 19s 51ms/step - loss: 0.5796 - accuracy: 0.8362 - val_loss: 0.7940 - val_accuracy: 0.7793\n",
      "Epoch 77/200\n",
      "375/375 [==============================] - 19s 52ms/step - loss: 0.5799 - accuracy: 0.8377 - val_loss: 0.7379 - val_accuracy: 0.8024\n",
      "Epoch 78/200\n",
      "375/375 [==============================] - 19s 51ms/step - loss: 0.5766 - accuracy: 0.8380 - val_loss: 0.7231 - val_accuracy: 0.7960\n",
      "Epoch 79/200\n",
      "375/375 [==============================] - 19s 51ms/step - loss: 0.5709 - accuracy: 0.8373 - val_loss: 0.6785 - val_accuracy: 0.8018\n",
      "Epoch 80/200\n",
      "375/375 [==============================] - 19s 51ms/step - loss: 0.5699 - accuracy: 0.8387 - val_loss: 0.7162 - val_accuracy: 0.7974\n",
      "Epoch 81/200\n",
      "375/375 [==============================] - 19s 51ms/step - loss: 0.5597 - accuracy: 0.8421 - val_loss: 0.6795 - val_accuracy: 0.8125\n",
      "Epoch 82/200\n",
      "375/375 [==============================] - 19s 52ms/step - loss: 0.5545 - accuracy: 0.8419 - val_loss: 0.7173 - val_accuracy: 0.7942\n",
      "Epoch 83/200\n",
      "375/375 [==============================] - 19s 52ms/step - loss: 0.5548 - accuracy: 0.8443 - val_loss: 0.5845 - val_accuracy: 0.8358\n",
      "Epoch 84/200\n",
      "375/375 [==============================] - 19s 51ms/step - loss: 0.5501 - accuracy: 0.8457 - val_loss: 0.7516 - val_accuracy: 0.7912\n",
      "Epoch 85/200\n",
      "375/375 [==============================] - 19s 52ms/step - loss: 0.5431 - accuracy: 0.8470 - val_loss: 0.7085 - val_accuracy: 0.8044\n",
      "Epoch 86/200\n",
      "375/375 [==============================] - 19s 51ms/step - loss: 0.5399 - accuracy: 0.8486 - val_loss: 0.6230 - val_accuracy: 0.8272\n",
      "Epoch 87/200\n",
      "375/375 [==============================] - 19s 52ms/step - loss: 0.5383 - accuracy: 0.8473 - val_loss: 0.6442 - val_accuracy: 0.8170\n",
      "Epoch 88/200\n",
      "375/375 [==============================] - 19s 51ms/step - loss: 0.5309 - accuracy: 0.8504 - val_loss: 0.8479 - val_accuracy: 0.7677\n",
      "Epoch 89/200\n",
      "375/375 [==============================] - 19s 52ms/step - loss: 0.5347 - accuracy: 0.8508 - val_loss: 0.7135 - val_accuracy: 0.8002\n",
      "Epoch 90/200\n",
      "375/375 [==============================] - 19s 51ms/step - loss: 0.5306 - accuracy: 0.8511 - val_loss: 0.5944 - val_accuracy: 0.8312\n",
      "Epoch 91/200\n",
      "375/375 [==============================] - 19s 52ms/step - loss: 0.5246 - accuracy: 0.8508 - val_loss: 0.7032 - val_accuracy: 0.8043\n",
      "Epoch 92/200\n",
      "375/375 [==============================] - 19s 52ms/step - loss: 0.5201 - accuracy: 0.8521 - val_loss: 0.5823 - val_accuracy: 0.8341\n",
      "Epoch 93/200\n",
      "375/375 [==============================] - 19s 51ms/step - loss: 0.5222 - accuracy: 0.8527 - val_loss: 0.7086 - val_accuracy: 0.8030\n",
      "Epoch 94/200\n",
      "375/375 [==============================] - 19s 52ms/step - loss: 0.5172 - accuracy: 0.8526 - val_loss: 0.6407 - val_accuracy: 0.8208\n",
      "Epoch 95/200\n",
      "375/375 [==============================] - 19s 51ms/step - loss: 0.5127 - accuracy: 0.8536 - val_loss: 0.5624 - val_accuracy: 0.8410\n",
      "Epoch 96/200\n",
      "375/375 [==============================] - 19s 52ms/step - loss: 0.5081 - accuracy: 0.8574 - val_loss: 0.6265 - val_accuracy: 0.8248\n",
      "Epoch 97/200\n",
      "375/375 [==============================] - 19s 51ms/step - loss: 0.5023 - accuracy: 0.8556 - val_loss: 0.7225 - val_accuracy: 0.8005\n",
      "Epoch 98/200\n",
      "375/375 [==============================] - 19s 52ms/step - loss: 0.5024 - accuracy: 0.8581 - val_loss: 0.6177 - val_accuracy: 0.8276\n",
      "Epoch 99/200\n",
      "375/375 [==============================] - 19s 52ms/step - loss: 0.5021 - accuracy: 0.8567 - val_loss: 0.5992 - val_accuracy: 0.8303\n",
      "Epoch 100/200\n",
      "375/375 [==============================] - 19s 52ms/step - loss: 0.4977 - accuracy: 0.8606 - val_loss: 0.5782 - val_accuracy: 0.8340\n",
      "Epoch 101/200\n",
      "375/375 [==============================] - 19s 52ms/step - loss: 0.4944 - accuracy: 0.8595 - val_loss: 0.5434 - val_accuracy: 0.8491\n",
      "Epoch 102/200\n",
      "375/375 [==============================] - 19s 52ms/step - loss: 0.4874 - accuracy: 0.8627 - val_loss: 0.5975 - val_accuracy: 0.8310\n",
      "Epoch 103/200\n",
      "375/375 [==============================] - 19s 51ms/step - loss: 0.4893 - accuracy: 0.8619 - val_loss: 0.5574 - val_accuracy: 0.8435\n",
      "Epoch 104/200\n",
      "375/375 [==============================] - 19s 52ms/step - loss: 0.4877 - accuracy: 0.8609 - val_loss: 0.6272 - val_accuracy: 0.8241\n",
      "Epoch 105/200\n",
      "375/375 [==============================] - 19s 52ms/step - loss: 0.4817 - accuracy: 0.8641 - val_loss: 0.7612 - val_accuracy: 0.7932\n",
      "Epoch 106/200\n",
      "375/375 [==============================] - 19s 52ms/step - loss: 0.4824 - accuracy: 0.8637 - val_loss: 0.5712 - val_accuracy: 0.8397\n",
      "Epoch 107/200\n",
      "375/375 [==============================] - 19s 52ms/step - loss: 0.4799 - accuracy: 0.8639 - val_loss: 0.6129 - val_accuracy: 0.8273\n",
      "Epoch 108/200\n",
      "375/375 [==============================] - 19s 51ms/step - loss: 0.4789 - accuracy: 0.8643 - val_loss: 0.5257 - val_accuracy: 0.8512\n",
      "Epoch 109/200\n",
      "375/375 [==============================] - 19s 51ms/step - loss: 0.4669 - accuracy: 0.8685 - val_loss: 0.6155 - val_accuracy: 0.8284\n",
      "Epoch 110/200\n",
      "375/375 [==============================] - 19s 52ms/step - loss: 0.4708 - accuracy: 0.8661 - val_loss: 0.5655 - val_accuracy: 0.8381\n",
      "Epoch 111/200\n",
      "375/375 [==============================] - 19s 51ms/step - loss: 0.4716 - accuracy: 0.8658 - val_loss: 0.5174 - val_accuracy: 0.8545\n",
      "Epoch 112/200\n",
      "375/375 [==============================] - 19s 52ms/step - loss: 0.4672 - accuracy: 0.8670 - val_loss: 0.6269 - val_accuracy: 0.8240\n",
      "Epoch 113/200\n"
     ]
    },
    {
     "name": "stdout",
     "output_type": "stream",
     "text": [
      "375/375 [==============================] - 19s 51ms/step - loss: 0.4674 - accuracy: 0.8676 - val_loss: 0.5571 - val_accuracy: 0.8418\n",
      "Epoch 114/200\n",
      "375/375 [==============================] - 19s 52ms/step - loss: 0.4586 - accuracy: 0.8701 - val_loss: 0.6255 - val_accuracy: 0.8261\n",
      "Epoch 115/200\n",
      "375/375 [==============================] - 19s 51ms/step - loss: 0.4578 - accuracy: 0.8680 - val_loss: 0.5604 - val_accuracy: 0.8443\n",
      "Epoch 116/200\n",
      "375/375 [==============================] - 19s 51ms/step - loss: 0.4573 - accuracy: 0.8706 - val_loss: 0.5535 - val_accuracy: 0.8443\n",
      "Epoch 117/200\n",
      "375/375 [==============================] - 19s 52ms/step - loss: 0.4596 - accuracy: 0.8702 - val_loss: 0.5967 - val_accuracy: 0.8295\n",
      "Epoch 118/200\n",
      "375/375 [==============================] - 19s 52ms/step - loss: 0.4500 - accuracy: 0.8729 - val_loss: 0.6584 - val_accuracy: 0.8201\n",
      "Epoch 119/200\n",
      "375/375 [==============================] - 19s 52ms/step - loss: 0.4526 - accuracy: 0.8718 - val_loss: 0.5178 - val_accuracy: 0.8531\n",
      "Epoch 120/200\n",
      "375/375 [==============================] - 19s 51ms/step - loss: 0.4499 - accuracy: 0.8708 - val_loss: 0.5848 - val_accuracy: 0.8382\n",
      "Epoch 121/200\n",
      "375/375 [==============================] - 19s 51ms/step - loss: 0.4536 - accuracy: 0.8702 - val_loss: 0.6262 - val_accuracy: 0.8282\n",
      "Epoch 122/200\n",
      "375/375 [==============================] - 19s 52ms/step - loss: 0.4417 - accuracy: 0.8753 - val_loss: 0.5212 - val_accuracy: 0.8536\n",
      "Epoch 123/200\n",
      "375/375 [==============================] - 19s 52ms/step - loss: 0.4438 - accuracy: 0.8748 - val_loss: 0.5883 - val_accuracy: 0.8360\n",
      "Epoch 124/200\n",
      "375/375 [==============================] - 19s 52ms/step - loss: 0.4422 - accuracy: 0.8745 - val_loss: 0.5473 - val_accuracy: 0.8463\n",
      "Epoch 125/200\n",
      "375/375 [==============================] - 19s 52ms/step - loss: 0.4414 - accuracy: 0.8753 - val_loss: 0.5437 - val_accuracy: 0.8493\n",
      "Epoch 126/200\n",
      "375/375 [==============================] - 19s 51ms/step - loss: 0.4391 - accuracy: 0.8749 - val_loss: 0.5363 - val_accuracy: 0.8478\n",
      "Epoch 127/200\n",
      "375/375 [==============================] - 19s 52ms/step - loss: 0.4399 - accuracy: 0.8739 - val_loss: 0.4928 - val_accuracy: 0.8607\n",
      "Epoch 128/200\n",
      "375/375 [==============================] - 19s 52ms/step - loss: 0.4355 - accuracy: 0.8749 - val_loss: 0.6897 - val_accuracy: 0.8127\n",
      "Epoch 129/200\n",
      "375/375 [==============================] - 19s 51ms/step - loss: 0.4349 - accuracy: 0.8766 - val_loss: 0.5642 - val_accuracy: 0.8433\n",
      "Epoch 130/200\n",
      "375/375 [==============================] - 19s 52ms/step - loss: 0.4326 - accuracy: 0.8770 - val_loss: 0.4848 - val_accuracy: 0.8646\n",
      "Epoch 131/200\n",
      "375/375 [==============================] - 19s 52ms/step - loss: 0.4269 - accuracy: 0.8788 - val_loss: 0.5477 - val_accuracy: 0.8497\n",
      "Epoch 132/200\n",
      "375/375 [==============================] - 19s 51ms/step - loss: 0.4301 - accuracy: 0.8765 - val_loss: 0.5334 - val_accuracy: 0.8517\n",
      "Epoch 133/200\n",
      "375/375 [==============================] - 19s 51ms/step - loss: 0.4243 - accuracy: 0.8808 - val_loss: 0.5406 - val_accuracy: 0.8499\n",
      "Epoch 134/200\n",
      "375/375 [==============================] - 19s 51ms/step - loss: 0.4246 - accuracy: 0.8799 - val_loss: 0.5208 - val_accuracy: 0.8530\n",
      "Epoch 135/200\n",
      "375/375 [==============================] - 19s 52ms/step - loss: 0.4200 - accuracy: 0.8793 - val_loss: 0.4896 - val_accuracy: 0.8633\n",
      "Epoch 136/200\n",
      "375/375 [==============================] - 19s 51ms/step - loss: 0.4219 - accuracy: 0.8803 - val_loss: 0.5127 - val_accuracy: 0.8556\n",
      "Epoch 137/200\n",
      "375/375 [==============================] - 19s 52ms/step - loss: 0.4221 - accuracy: 0.8800 - val_loss: 0.4979 - val_accuracy: 0.8609\n",
      "Epoch 138/200\n",
      "375/375 [==============================] - 19s 52ms/step - loss: 0.4206 - accuracy: 0.8801 - val_loss: 0.4901 - val_accuracy: 0.8639\n",
      "Epoch 139/200\n",
      "375/375 [==============================] - 19s 52ms/step - loss: 0.4173 - accuracy: 0.8815 - val_loss: 0.5152 - val_accuracy: 0.8541\n",
      "Epoch 140/200\n",
      "375/375 [==============================] - 19s 52ms/step - loss: 0.4180 - accuracy: 0.8816 - val_loss: 0.5129 - val_accuracy: 0.8567\n",
      "Epoch 141/200\n",
      "375/375 [==============================] - 19s 52ms/step - loss: 0.4206 - accuracy: 0.8804 - val_loss: 0.4918 - val_accuracy: 0.8605\n",
      "Epoch 142/200\n",
      "375/375 [==============================] - 19s 51ms/step - loss: 0.4158 - accuracy: 0.8815 - val_loss: 0.4971 - val_accuracy: 0.8583\n",
      "Epoch 143/200\n",
      "375/375 [==============================] - 19s 52ms/step - loss: 0.4151 - accuracy: 0.8829 - val_loss: 0.5295 - val_accuracy: 0.8541\n",
      "Epoch 144/200\n",
      "375/375 [==============================] - 19s 51ms/step - loss: 0.4085 - accuracy: 0.8835 - val_loss: 0.5102 - val_accuracy: 0.8562\n",
      "Epoch 145/200\n",
      "375/375 [==============================] - 19s 52ms/step - loss: 0.4128 - accuracy: 0.8838 - val_loss: 0.4889 - val_accuracy: 0.8661\n",
      "Epoch 146/200\n",
      "375/375 [==============================] - 19s 52ms/step - loss: 0.4125 - accuracy: 0.8829 - val_loss: 0.5423 - val_accuracy: 0.8488\n",
      "Epoch 147/200\n",
      "375/375 [==============================] - 19s 52ms/step - loss: 0.4121 - accuracy: 0.8823 - val_loss: 0.5129 - val_accuracy: 0.8556\n",
      "Epoch 148/200\n",
      "375/375 [==============================] - 19s 51ms/step - loss: 0.4088 - accuracy: 0.8832 - val_loss: 0.5431 - val_accuracy: 0.8461\n",
      "Epoch 149/200\n",
      "375/375 [==============================] - 19s 52ms/step - loss: 0.4044 - accuracy: 0.8854 - val_loss: 0.4963 - val_accuracy: 0.8593\n",
      "Epoch 150/200\n",
      "375/375 [==============================] - 19s 51ms/step - loss: 0.4090 - accuracy: 0.8839 - val_loss: 0.4792 - val_accuracy: 0.8646\n",
      "Epoch 151/200\n",
      "375/375 [==============================] - 19s 52ms/step - loss: 0.4011 - accuracy: 0.8854 - val_loss: 0.5077 - val_accuracy: 0.8575\n",
      "Epoch 152/200\n",
      "375/375 [==============================] - 19s 51ms/step - loss: 0.4025 - accuracy: 0.8848 - val_loss: 0.4685 - val_accuracy: 0.8683\n",
      "Epoch 153/200\n",
      "375/375 [==============================] - 19s 51ms/step - loss: 0.4044 - accuracy: 0.8853 - val_loss: 0.4907 - val_accuracy: 0.8602\n",
      "Epoch 154/200\n",
      "375/375 [==============================] - 19s 52ms/step - loss: 0.4019 - accuracy: 0.8860 - val_loss: 0.5295 - val_accuracy: 0.8529\n",
      "Epoch 155/200\n",
      "375/375 [==============================] - 19s 51ms/step - loss: 0.4045 - accuracy: 0.8859 - val_loss: 0.4855 - val_accuracy: 0.8632\n",
      "Epoch 156/200\n",
      "375/375 [==============================] - 19s 51ms/step - loss: 0.4009 - accuracy: 0.8860 - val_loss: 0.4882 - val_accuracy: 0.8622\n",
      "Epoch 157/200\n",
      "375/375 [==============================] - 19s 51ms/step - loss: 0.3956 - accuracy: 0.8889 - val_loss: 0.5250 - val_accuracy: 0.8546\n",
      "Epoch 158/200\n",
      "375/375 [==============================] - 19s 51ms/step - loss: 0.3980 - accuracy: 0.8868 - val_loss: 0.5127 - val_accuracy: 0.8567\n",
      "Epoch 159/200\n",
      "375/375 [==============================] - 19s 51ms/step - loss: 0.3954 - accuracy: 0.8873 - val_loss: 0.4908 - val_accuracy: 0.8606\n",
      "Epoch 160/200\n",
      "375/375 [==============================] - 19s 51ms/step - loss: 0.3954 - accuracy: 0.8888 - val_loss: 0.4950 - val_accuracy: 0.8608\n",
      "Epoch 161/200\n",
      "375/375 [==============================] - 19s 51ms/step - loss: 0.3931 - accuracy: 0.8881 - val_loss: 0.5026 - val_accuracy: 0.8599\n",
      "Epoch 162/200\n",
      "375/375 [==============================] - 19s 51ms/step - loss: 0.3884 - accuracy: 0.8922 - val_loss: 0.4717 - val_accuracy: 0.8692\n",
      "Epoch 163/200\n",
      "375/375 [==============================] - 19s 52ms/step - loss: 0.3940 - accuracy: 0.8862 - val_loss: 0.4867 - val_accuracy: 0.8638\n",
      "Epoch 164/200\n",
      "375/375 [==============================] - 19s 51ms/step - loss: 0.3912 - accuracy: 0.8876 - val_loss: 0.4825 - val_accuracy: 0.8656\n",
      "Epoch 165/200\n",
      "375/375 [==============================] - 19s 51ms/step - loss: 0.3928 - accuracy: 0.8869 - val_loss: 0.5147 - val_accuracy: 0.8584\n",
      "Epoch 166/200\n",
      "375/375 [==============================] - 19s 51ms/step - loss: 0.3909 - accuracy: 0.8896 - val_loss: 0.4809 - val_accuracy: 0.8671\n",
      "Epoch 167/200\n",
      "375/375 [==============================] - 19s 51ms/step - loss: 0.3935 - accuracy: 0.8885 - val_loss: 0.5073 - val_accuracy: 0.8577\n",
      "Epoch 168/200\n",
      "375/375 [==============================] - 19s 51ms/step - loss: 0.3928 - accuracy: 0.8879 - val_loss: 0.5009 - val_accuracy: 0.8628\n"
     ]
    },
    {
     "name": "stdout",
     "output_type": "stream",
     "text": [
      "Epoch 169/200\n",
      "375/375 [==============================] - 19s 51ms/step - loss: 0.3866 - accuracy: 0.8894 - val_loss: 0.4718 - val_accuracy: 0.8681\n",
      "Epoch 170/200\n",
      "375/375 [==============================] - 19s 51ms/step - loss: 0.3902 - accuracy: 0.8885 - val_loss: 0.4666 - val_accuracy: 0.8691\n",
      "Epoch 171/200\n",
      "375/375 [==============================] - 19s 52ms/step - loss: 0.3886 - accuracy: 0.8902 - val_loss: 0.4866 - val_accuracy: 0.8657\n",
      "Epoch 172/200\n",
      "375/375 [==============================] - 19s 51ms/step - loss: 0.3874 - accuracy: 0.8909 - val_loss: 0.5163 - val_accuracy: 0.8545\n",
      "Epoch 173/200\n",
      "375/375 [==============================] - 19s 51ms/step - loss: 0.3892 - accuracy: 0.8908 - val_loss: 0.5090 - val_accuracy: 0.8608\n",
      "Epoch 174/200\n",
      "375/375 [==============================] - 19s 51ms/step - loss: 0.3854 - accuracy: 0.8897 - val_loss: 0.4822 - val_accuracy: 0.8658\n",
      "Epoch 175/200\n",
      "375/375 [==============================] - 19s 52ms/step - loss: 0.3866 - accuracy: 0.8897 - val_loss: 0.4848 - val_accuracy: 0.8635\n",
      "Epoch 176/200\n",
      "375/375 [==============================] - 19s 51ms/step - loss: 0.3859 - accuracy: 0.8917 - val_loss: 0.5117 - val_accuracy: 0.8585\n",
      "Epoch 177/200\n",
      "375/375 [==============================] - 19s 51ms/step - loss: 0.3876 - accuracy: 0.8899 - val_loss: 0.4979 - val_accuracy: 0.8615\n",
      "Epoch 178/200\n",
      "375/375 [==============================] - 19s 51ms/step - loss: 0.3832 - accuracy: 0.8900 - val_loss: 0.4953 - val_accuracy: 0.8648\n",
      "Epoch 179/200\n",
      "375/375 [==============================] - 19s 51ms/step - loss: 0.3839 - accuracy: 0.8910 - val_loss: 0.4909 - val_accuracy: 0.8627\n",
      "Epoch 180/200\n",
      "375/375 [==============================] - 19s 51ms/step - loss: 0.3832 - accuracy: 0.8908 - val_loss: 0.4733 - val_accuracy: 0.8683\n",
      "Epoch 181/200\n",
      "375/375 [==============================] - 19s 51ms/step - loss: 0.3824 - accuracy: 0.8910 - val_loss: 0.4797 - val_accuracy: 0.8662\n",
      "Epoch 182/200\n",
      "375/375 [==============================] - 19s 51ms/step - loss: 0.3813 - accuracy: 0.8916 - val_loss: 0.4842 - val_accuracy: 0.8657\n",
      "Epoch 183/200\n",
      "375/375 [==============================] - 19s 51ms/step - loss: 0.3766 - accuracy: 0.8939 - val_loss: 0.4694 - val_accuracy: 0.8678\n",
      "Epoch 184/200\n",
      "375/375 [==============================] - 19s 51ms/step - loss: 0.3809 - accuracy: 0.8923 - val_loss: 0.4813 - val_accuracy: 0.8684\n",
      "Epoch 185/200\n",
      "375/375 [==============================] - 19s 51ms/step - loss: 0.3797 - accuracy: 0.8921 - val_loss: 0.4803 - val_accuracy: 0.8667\n",
      "Epoch 186/200\n",
      "375/375 [==============================] - 19s 52ms/step - loss: 0.3826 - accuracy: 0.8915 - val_loss: 0.4863 - val_accuracy: 0.8648\n",
      "Epoch 187/200\n",
      "375/375 [==============================] - 19s 51ms/step - loss: 0.3790 - accuracy: 0.8920 - val_loss: 0.4707 - val_accuracy: 0.8683\n",
      "Epoch 188/200\n",
      "375/375 [==============================] - 19s 51ms/step - loss: 0.3768 - accuracy: 0.8941 - val_loss: 0.4758 - val_accuracy: 0.8673\n",
      "Epoch 189/200\n",
      "375/375 [==============================] - 19s 52ms/step - loss: 0.3778 - accuracy: 0.8921 - val_loss: 0.4771 - val_accuracy: 0.8670\n",
      "Epoch 190/200\n",
      "375/375 [==============================] - 19s 51ms/step - loss: 0.3796 - accuracy: 0.8928 - val_loss: 0.4674 - val_accuracy: 0.8692\n",
      "Epoch 191/200\n",
      "375/375 [==============================] - 19s 51ms/step - loss: 0.3780 - accuracy: 0.8926 - val_loss: 0.4799 - val_accuracy: 0.8675\n",
      "Epoch 192/200\n",
      "375/375 [==============================] - 19s 51ms/step - loss: 0.3787 - accuracy: 0.8920 - val_loss: 0.4883 - val_accuracy: 0.8649\n",
      "Epoch 193/200\n",
      "375/375 [==============================] - 19s 51ms/step - loss: 0.3790 - accuracy: 0.8920 - val_loss: 0.4696 - val_accuracy: 0.8683\n",
      "Epoch 194/200\n",
      "375/375 [==============================] - 19s 51ms/step - loss: 0.3794 - accuracy: 0.8912 - val_loss: 0.4720 - val_accuracy: 0.8690\n",
      "Epoch 195/200\n",
      "375/375 [==============================] - 19s 51ms/step - loss: 0.3787 - accuracy: 0.8922 - val_loss: 0.4770 - val_accuracy: 0.8672\n",
      "Epoch 196/200\n",
      "375/375 [==============================] - 19s 51ms/step - loss: 0.3747 - accuracy: 0.8932 - val_loss: 0.4824 - val_accuracy: 0.8661\n",
      "Epoch 197/200\n",
      "375/375 [==============================] - 19s 51ms/step - loss: 0.3789 - accuracy: 0.8920 - val_loss: 0.4600 - val_accuracy: 0.8723\n",
      "Epoch 198/200\n",
      "375/375 [==============================] - 19s 51ms/step - loss: 0.3749 - accuracy: 0.8937 - val_loss: 0.4718 - val_accuracy: 0.8692\n",
      "Epoch 199/200\n",
      "375/375 [==============================] - 19s 51ms/step - loss: 0.3734 - accuracy: 0.8946 - val_loss: 0.4853 - val_accuracy: 0.8651\n",
      "Epoch 200/200\n",
      "375/375 [==============================] - 19s 51ms/step - loss: 0.3727 - accuracy: 0.8938 - val_loss: 0.4725 - val_accuracy: 0.8687\n"
     ]
    }
   ],
   "source": [
    "# Train the model\n",
    "history3 = model3.fit(datagen.flow(X_train, y_train, batch_size=128), epochs=200, validation_data=(X_val, y_val))"
   ]
  },
  {
   "cell_type": "code",
   "execution_count": 21,
   "metadata": {
    "scrolled": false
   },
   "outputs": [
    {
     "data": {
      "image/png": "[encoded data removed]",
      "text/plain": [
       "<Figure size 1000x800 with 1 Axes>"
      ]
     },
     "metadata": {},
     "output_type": "display_data"
    }
   ],
   "source": [
    "plot_history(history3)"
   ]
  },
  {
   "cell_type": "markdown",
   "metadata": {},
   "source": [
    "The model takes around 150 epochs to convege. The validation loss suddenly decreases its volatility around 125 epochs, this is likley due to the decrease in learning rate happening around this epoch. The validation loss and accuracy improve significatnly from previous model, as we are able to get 87% validation accuracy and .47 validation loss. "
   ]
  },
  {
   "cell_type": "code",
   "execution_count": 22,
   "metadata": {},
   "outputs": [],
   "source": [
    "model3.save('model3.h5')"
   ]
  },
  {
   "cell_type": "code",
   "execution_count": 16,
   "metadata": {},
   "outputs": [],
   "source": [
    "model3 = tf.keras.models.load_model('model3.h5')"
   ]
  },
  {
   "cell_type": "code",
   "execution_count": 68,
   "metadata": {},
   "outputs": [
    {
     "name": "stdout",
     "output_type": "stream",
     "text": [
      "375/375 [==============================] - 2s 6ms/step - loss: 0.4718 - accuracy: 0.8684\n"
     ]
    },
    {
     "data": {
      "text/plain": [
       "[0.4717569947242737, 0.8684166669845581]"
      ]
     },
     "execution_count": 68,
     "metadata": {},
     "output_type": "execute_result"
    }
   ],
   "source": [
    "model3.evaluate(X_val, y_val)"
   ]
  },
  {
   "cell_type": "code",
   "execution_count": 42,
   "metadata": {},
   "outputs": [
    {
     "name": "stdout",
     "output_type": "stream",
     "text": [
      "375/375 [==============================] - 2s 6ms/step\n"
     ]
    },
    {
     "data": {
      "text/plain": [
       "0.9268981481481481"
      ]
     },
     "execution_count": 42,
     "metadata": {},
     "output_type": "execute_result"
    }
   ],
   "source": [
    "average_auc(model3)"
   ]
  },
  {
   "cell_type": "code",
   "execution_count": 22,
   "metadata": {},
   "outputs": [
    {
     "name": "stdout",
     "output_type": "stream",
     "text": [
      "375/375 [==============================] - 2s 6ms/step\n",
      "375/375 [==============================] - 1s 3ms/step\n"
     ]
    },
    {
     "data": {
      "text/plain": [
       "1.1931566845646557e-12"
      ]
     },
     "execution_count": 22,
     "metadata": {},
     "output_type": "execute_result"
    }
   ],
   "source": [
    "y_pred_model3 = model3.predict(X_val)\n",
    "y_pred_model2_5 = model2_5.predict(X_val)\n",
    "\n",
    "y_pred_model3 = np.argmax(y_pred_model3, axis=1)\n",
    "y_pred_model2_5 = np.argmax(y_pred_model2_5, axis=1)\n",
    "\n",
    "\n",
    "model3_correct = np.sum((y_pred_model3 == y_val) & (y_pred_model2_5 != y_val))\n",
    "model2_5_correct = np.sum((y_pred_model2_5 == y_val) & (y_pred_model3 != y_val))\n",
    "\n",
    "critical_value = (model3_correct + model2_5_correct)**2 / (model3_correct + model2_5_correct)\n",
    "from scipy.stats import chi2\n",
    "import math\n",
    "\n",
    "1 - chi2.cdf(math.sqrt(critical_value), 1)\n"
   ]
  },
  {
   "cell_type": "markdown",
   "metadata": {},
   "source": [
    "The p value being close to 0 indicates we can safely reject the null hypothesis that models 2.5 and 3 are the same. "
   ]
  },
  {
   "cell_type": "markdown",
   "metadata": {},
   "source": []
  }
 ],
 "metadata": {
  "kernelspec": {
   "display_name": "Python 3",
   "language": "python",
   "name": "python3"
  },
  "language_info": {
   "codemirror_mode": {
    "name": "ipython",
    "version": 3
   },
   "file_extension": ".py",
   "mimetype": "text/x-python",
   "name": "python",
   "nbconvert_exporter": "python",
   "pygments_lexer": "ipython3",
   "version": "3.8.3"
  },
  "vscode": {
   "interpreter": {
    "hash": "916dbcbb3f70747c44a77c7bcd40155683ae19c65e1c03b4aa3499c5328201f1"
   }
  }
 },
 "nbformat": 4,
 "nbformat_minor": 2
}
